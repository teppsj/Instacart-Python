{
 "cells": [
  {
   "cell_type": "markdown",
   "id": "37a143bb",
   "metadata": {},
   "source": [
    "# Instacart Basket Analysis \n",
    "#### Table of Contents \n",
    "\n",
    "01. Libraries Import\n",
    "02. Dataframe Import\n",
    "03. Addressing PII Data\n",
    "04. Regional Breakdown \n",
    "05. Identifying and Excluding Low-activity Customers\n",
    "06. Customer Profiling and Deriving Columns \n",
    "- 6.1 Generational\n",
    "- 6.2 Income Categories \n",
    "- 6.3 Parental status\n",
    "- 6.4 Family status \n",
    "- 6.5 Day of the Week Clean-up\n",
    "- 6.6 Department Clarification\n",
    "- 6.7 Addressing Missing Data from a Previous Process - Price Ranges\n",
    "7. Visualizations \n",
    "- 7.1 Generations of Customers\n",
    "- 7.2 Income Ranges\n",
    "- 7.3 Parental Status\n",
    "- 7.4 Family Status \n",
    "- 7.5 Customer Brand Loyalty \n",
    "- 7.6 Price-Range\n",
    "8. Aggregating Variables on a Customer-Profile Level \n",
    "- 8.1 Generations\n",
    "- 8.2 Income Ranges\n",
    "- 8.3 Parental Status \n",
    "- 8.4 Family Status \n",
    "9. Comparing Customer Profiles with Regions and Departments \n",
    "- 9.1 Regional Breakdown\n",
    "- 8.2 Generations & Departments\n",
    "- 8.3 Income Comparisons\n",
    "- 8.4 Family Status\n",
    "- 8.5 Parental Status\n",
    "- 8.6 Loyalty Status\n",
    "- 8.7 Department Popularity"
   ]
  },
  {
   "cell_type": "markdown",
   "id": "27eabc56",
   "metadata": {},
   "source": [
    "# 01. Libraries Import"
   ]
  },
  {
   "cell_type": "code",
   "execution_count": 1,
   "id": "6f61f28d",
   "metadata": {},
   "outputs": [],
   "source": [
    "import pandas as pd\n",
    "import numpy as np\n",
    "import os\n",
    "import matplotlib.pyplot as plt\n",
    "import seaborn as sns\n",
    "import scipy"
   ]
  },
  {
   "cell_type": "markdown",
   "id": "2cf645ef",
   "metadata": {},
   "source": [
    "# 02. Dataframe Import"
   ]
  },
  {
   "cell_type": "markdown",
   "id": "1e588bc6",
   "metadata": {},
   "source": [
    "### Q1 - Import the data set you exported in Exercise 4.9 into a new Jupyter notebook. This should be the merged version of your data that contains the new customers column."
   ]
  },
  {
   "cell_type": "code",
   "execution_count": 2,
   "id": "7ed39c48",
   "metadata": {},
   "outputs": [],
   "source": [
    "# Create a string path\n",
    "\n",
    "path = r'C:\\Users\\rasmu\\Documents\\CareerFoundry\\A4 Instacart Basket Analysis\\02 Data'"
   ]
  },
  {
   "cell_type": "code",
   "execution_count": 3,
   "id": "da230f6f",
   "metadata": {},
   "outputs": [],
   "source": [
    "# Importing merged dataframe\n",
    "\n",
    "df_opc = pd.read_pickle(os.path.join(path, 'Prepd Data', 'opc.pkl'))"
   ]
  },
  {
   "cell_type": "code",
   "execution_count": 4,
   "id": "8913b512",
   "metadata": {},
   "outputs": [
    {
     "data": {
      "text/plain": [
       "(32641268, 31)"
      ]
     },
     "execution_count": 4,
     "metadata": {},
     "output_type": "execute_result"
    }
   ],
   "source": [
    "df_opc.shape"
   ]
  },
  {
   "cell_type": "code",
   "execution_count": 5,
   "id": "d876b4bc",
   "metadata": {},
   "outputs": [
    {
     "data": {
      "text/plain": [
       "order_id                     int64\n",
       "user_id                     object\n",
       "order_number                 int16\n",
       "orders_day_of_week           int16\n",
       "order_hour_of_day            int16\n",
       "days_since_prior_order     float16\n",
       "first_order                   bool\n",
       "product_id                 float32\n",
       "add_to_cart_order          float16\n",
       "reordered                  float16\n",
       "product_name              category\n",
       "aisle_id                   float16\n",
       "department_id              float16\n",
       "prices                     float32\n",
       "busiest_day               category\n",
       "busiest_days              category\n",
       "busiest_period_of_day     category\n",
       "max_order                    int16\n",
       "loyalty_flag              category\n",
       "avg_price                  float16\n",
       "spending_flag             category\n",
       "order_frequency            float16\n",
       "frequency_flag            category\n",
       "Gender                      object\n",
       "State                       object\n",
       "Age                          int64\n",
       "date_joined                 object\n",
       "Dependants                   int64\n",
       "Marital_status              object\n",
       "income                       int64\n",
       "_merge                    category\n",
       "dtype: object"
      ]
     },
     "execution_count": 5,
     "metadata": {},
     "output_type": "execute_result"
    }
   ],
   "source": [
    "df_opc.dtypes"
   ]
  },
  {
   "cell_type": "code",
   "execution_count": 6,
   "id": "779504ca",
   "metadata": {},
   "outputs": [],
   "source": [
    "df_opc = df_opc.drop(columns = ['_merge'])"
   ]
  },
  {
   "cell_type": "code",
   "execution_count": 7,
   "id": "173882e5",
   "metadata": {},
   "outputs": [],
   "source": [
    "#To help with memory issue, need to change datatype for some columns that weren't previously changed (customer info)\n",
    "\n",
    "df_opc['Age'] = df_opc['Age'].astype('int16')"
   ]
  },
  {
   "cell_type": "code",
   "execution_count": 8,
   "id": "2102dd09",
   "metadata": {},
   "outputs": [],
   "source": [
    "df_opc['Dependants'] = df_opc['Dependants'].astype('int16')"
   ]
  },
  {
   "cell_type": "code",
   "execution_count": 9,
   "id": "8e573d50",
   "metadata": {},
   "outputs": [],
   "source": [
    "df_opc['income'] = df_opc['income'].astype('int32')"
   ]
  },
  {
   "cell_type": "code",
   "execution_count": 10,
   "id": "c2a20368",
   "metadata": {},
   "outputs": [],
   "source": [
    "df_opc['Gender'] = df_opc['Gender'].astype('category')"
   ]
  },
  {
   "cell_type": "code",
   "execution_count": 11,
   "id": "33c4f6d4",
   "metadata": {},
   "outputs": [],
   "source": [
    "df_opc['State'] = df_opc['State'].astype('category')"
   ]
  },
  {
   "cell_type": "code",
   "execution_count": 12,
   "id": "597841b1",
   "metadata": {},
   "outputs": [],
   "source": [
    "df_opc['date_joined'] = df_opc['date_joined'].astype('category')"
   ]
  },
  {
   "cell_type": "code",
   "execution_count": 13,
   "id": "3cd7db48",
   "metadata": {},
   "outputs": [],
   "source": [
    "df_opc['Marital_status'] = df_opc['Marital_status'].astype('category')"
   ]
  },
  {
   "cell_type": "code",
   "execution_count": 14,
   "id": "a67a3684",
   "metadata": {},
   "outputs": [
    {
     "data": {
      "text/plain": [
       "order_id                     int64\n",
       "user_id                     object\n",
       "order_number                 int16\n",
       "orders_day_of_week           int16\n",
       "order_hour_of_day            int16\n",
       "days_since_prior_order     float16\n",
       "first_order                   bool\n",
       "product_id                 float32\n",
       "add_to_cart_order          float16\n",
       "reordered                  float16\n",
       "product_name              category\n",
       "aisle_id                   float16\n",
       "department_id              float16\n",
       "prices                     float32\n",
       "busiest_day               category\n",
       "busiest_days              category\n",
       "busiest_period_of_day     category\n",
       "max_order                    int16\n",
       "loyalty_flag              category\n",
       "avg_price                  float16\n",
       "spending_flag             category\n",
       "order_frequency            float16\n",
       "frequency_flag            category\n",
       "Gender                    category\n",
       "State                     category\n",
       "Age                          int16\n",
       "date_joined               category\n",
       "Dependants                   int16\n",
       "Marital_status            category\n",
       "income                       int32\n",
       "dtype: object"
      ]
     },
     "execution_count": 14,
     "metadata": {},
     "output_type": "execute_result"
    }
   ],
   "source": [
    "#Checking that updates were successful\n",
    "\n",
    "df_opc.dtypes"
   ]
  },
  {
   "cell_type": "markdown",
   "id": "3227b0d3",
   "metadata": {},
   "source": [
    "# 03. Addressing PPII Data"
   ]
  },
  {
   "cell_type": "markdown",
   "id": "cbce1692",
   "metadata": {},
   "source": [
    "### Q2 - Consider any security implications that might exist for this new data. You’ll need to address any PII data in the data before continuing your analysis."
   ]
  },
  {
   "cell_type": "markdown",
   "id": "c8c524c2",
   "metadata": {},
   "source": [
    "A2 - While there are no names in the merged data that I have put together, user_id could still be used to get back to finding the actual individuals. Even if that's not the case, having combined the data of their gender, state, age, marital_status, dependants, and income, could be used to figure out who someone is. I would double check what the PII protocols for this situation are and work within them, even if it means having to remove some other columns."
   ]
  },
  {
   "cell_type": "markdown",
   "id": "005076d9",
   "metadata": {},
   "source": [
    "# 04. Regional Breakdown"
   ]
  },
  {
   "cell_type": "markdown",
   "id": "75fd0715",
   "metadata": {},
   "source": [
    "### Q3 - The Instacart officers are interested in comparing customer behavior in different geographic areas. Create a regional segmentation of the data. You’ll need to create a “Region” column based on the “State” column from your customers data set.\n",
    "\n",
    "### Use the region information in this Wikipedia article to create your column (you only need to create regions, not divisions).\n",
    "\n",
    "### Determine whether there’s a difference in spending habits between the different U.S. regions. (Hint: You can do this by crossing the variable you just created with the spending flag.)"
   ]
  },
  {
   "cell_type": "code",
   "execution_count": 15,
   "id": "86c4a1cc",
   "metadata": {},
   "outputs": [],
   "source": [
    "# Creating region lists based on the Wikipedia groupings\n",
    "\n",
    "region_1 = ['Maine', 'New Hampshire', 'Vermont', 'Massachusetts', 'Rhode Island', 'Connecticut', 'New York', 'Pennsylvania', 'New Jersey']\n",
    "\n",
    "region_2 = ['Wisconsin', 'Michigan', 'Illinois', 'Indiana', 'Ohio', 'North Dakota', 'South Dakota', 'Nebraska', 'Kansas', 'Minnesota', 'Iowa', 'Missouri']\n",
    "\n",
    "region_3 = ['Delaware','Maryland', 'District of Columbia', 'Virginia', 'West Virginia', 'North Carolina', 'South Carolina', 'Georgia', 'Florida', 'Kentucky', 'Tennessee', 'Mississippi', 'Alabama', 'Oklahoma', 'Texas', 'Arkansas', 'Louisiana']\n",
    "\n",
    "region_4 = ['Idaho', 'Montana', 'Wyoming', 'Nevada', 'Utah', 'Colorado', 'Arizona', 'New Mexico', 'Alaska', 'Washington', 'Oregon', 'California', 'Hawaii']"
   ]
  },
  {
   "cell_type": "code",
   "execution_count": 16,
   "id": "f809b124",
   "metadata": {},
   "outputs": [],
   "source": [
    "# Creating a loop for regions \n",
    "\n",
    "result = []\n",
    "\n",
    "for value in df_opc['State']:\n",
    "    if value in region_1:\n",
    "        result.append('Northeast')\n",
    "    elif value in region_2:\n",
    "        result.append('Midwest')\n",
    "    elif value in region_3:\n",
    "        result.append('South')\n",
    "    elif value in region_4:\n",
    "        result.append('West')\n",
    "    else:\n",
    "        result.append('Not in category')"
   ]
  },
  {
   "cell_type": "code",
   "execution_count": 17,
   "id": "6170b6f0",
   "metadata": {},
   "outputs": [],
   "source": [
    "# Adding regional data to df \n",
    "\n",
    "df_opc['Region'] = result"
   ]
  },
  {
   "cell_type": "code",
   "execution_count": 18,
   "id": "b720328a",
   "metadata": {},
   "outputs": [
    {
     "data": {
      "text/plain": [
       "South        10870719\n",
       "West          8353182\n",
       "Midwest       7652535\n",
       "Northeast     5764832\n",
       "Name: Region, dtype: int64"
      ]
     },
     "execution_count": 18,
     "metadata": {},
     "output_type": "execute_result"
    }
   ],
   "source": [
    "df_opc['Region'].value_counts()"
   ]
  },
  {
   "cell_type": "code",
   "execution_count": 19,
   "id": "de05255f",
   "metadata": {},
   "outputs": [
    {
     "data": {
      "text/plain": [
       "32641268"
      ]
     },
     "execution_count": 19,
     "metadata": {},
     "output_type": "execute_result"
    }
   ],
   "source": [
    "# Check to make sure all states are properly labeled by checking value counts\n",
    "\n",
    "10229198+8994703+7652535+5764832"
   ]
  },
  {
   "cell_type": "code",
   "execution_count": 20,
   "id": "5c089e3f",
   "metadata": {},
   "outputs": [
    {
     "data": {
      "text/plain": [
       "32641268"
      ]
     },
     "execution_count": 20,
     "metadata": {},
     "output_type": "execute_result"
    }
   ],
   "source": [
    "# Check to make sure length of states matches region count\n",
    "len(df_opc['State'])"
   ]
  },
  {
   "cell_type": "code",
   "execution_count": 21,
   "id": "6f0f626b",
   "metadata": {},
   "outputs": [],
   "source": [
    "#Change region dtype to category\n",
    "\n",
    "df_opc['Region'] = df_opc['Region'].astype('category')"
   ]
  },
  {
   "cell_type": "code",
   "execution_count": 22,
   "id": "ac4b383b",
   "metadata": {},
   "outputs": [],
   "source": [
    "# Creating crosstab for spending habits of different regions\n",
    "\n",
    "crosstab = pd.crosstab(df_opc['Region'], df_opc['spending_flag'], dropna = False)"
   ]
  },
  {
   "cell_type": "code",
   "execution_count": 23,
   "id": "3c2f74ad",
   "metadata": {},
   "outputs": [
    {
     "data": {
      "text/html": [
       "<div>\n",
       "<style scoped>\n",
       "    .dataframe tbody tr th:only-of-type {\n",
       "        vertical-align: middle;\n",
       "    }\n",
       "\n",
       "    .dataframe tbody tr th {\n",
       "        vertical-align: top;\n",
       "    }\n",
       "\n",
       "    .dataframe thead th {\n",
       "        text-align: right;\n",
       "    }\n",
       "</style>\n",
       "<table border=\"1\" class=\"dataframe\">\n",
       "  <thead>\n",
       "    <tr style=\"text-align: right;\">\n",
       "      <th>spending_flag</th>\n",
       "      <th>High spender</th>\n",
       "      <th>Low spender</th>\n",
       "    </tr>\n",
       "    <tr>\n",
       "      <th>Region</th>\n",
       "      <th></th>\n",
       "      <th></th>\n",
       "    </tr>\n",
       "  </thead>\n",
       "  <tbody>\n",
       "    <tr>\n",
       "      <th>Midwest</th>\n",
       "      <td>157347</td>\n",
       "      <td>7495188</td>\n",
       "    </tr>\n",
       "    <tr>\n",
       "      <th>Northeast</th>\n",
       "      <td>109140</td>\n",
       "      <td>5655692</td>\n",
       "    </tr>\n",
       "    <tr>\n",
       "      <th>South</th>\n",
       "      <td>211679</td>\n",
       "      <td>10659040</td>\n",
       "    </tr>\n",
       "    <tr>\n",
       "      <th>West</th>\n",
       "      <td>161834</td>\n",
       "      <td>8191348</td>\n",
       "    </tr>\n",
       "  </tbody>\n",
       "</table>\n",
       "</div>"
      ],
      "text/plain": [
       "spending_flag  High spender  Low spender\n",
       "Region                                  \n",
       "Midwest              157347      7495188\n",
       "Northeast            109140      5655692\n",
       "South                211679     10659040\n",
       "West                 161834      8191348"
      ]
     },
     "execution_count": 23,
     "metadata": {},
     "output_type": "execute_result"
    }
   ],
   "source": [
    "crosstab"
   ]
  },
  {
   "cell_type": "code",
   "execution_count": 24,
   "id": "7705f875",
   "metadata": {},
   "outputs": [
    {
     "data": {
      "text/plain": [
       "7652535"
      ]
     },
     "execution_count": 24,
     "metadata": {},
     "output_type": "execute_result"
    }
   ],
   "source": [
    "# Determining high spending population percentage in Midwest\n",
    "\n",
    "7495188+157347"
   ]
  },
  {
   "cell_type": "code",
   "execution_count": 25,
   "id": "2b8d73ff",
   "metadata": {},
   "outputs": [],
   "source": [
    "Midwest=(157347/7652535)*100"
   ]
  },
  {
   "cell_type": "code",
   "execution_count": 26,
   "id": "13e6a176",
   "metadata": {},
   "outputs": [
    {
     "data": {
      "text/plain": [
       "2.05614218033632"
      ]
     },
     "execution_count": 26,
     "metadata": {},
     "output_type": "execute_result"
    }
   ],
   "source": [
    "Midwest"
   ]
  },
  {
   "cell_type": "code",
   "execution_count": 27,
   "id": "b851601a",
   "metadata": {},
   "outputs": [
    {
     "data": {
      "text/plain": [
       "5764832"
      ]
     },
     "execution_count": 27,
     "metadata": {},
     "output_type": "execute_result"
    }
   ],
   "source": [
    "# Determining high spending population percentage in Northeast\n",
    "\n",
    "5655692+109140"
   ]
  },
  {
   "cell_type": "code",
   "execution_count": 28,
   "id": "3c336303",
   "metadata": {},
   "outputs": [],
   "source": [
    "Northeast=(109140/5655692)*100"
   ]
  },
  {
   "cell_type": "code",
   "execution_count": 29,
   "id": "222ff1ac",
   "metadata": {},
   "outputs": [
    {
     "data": {
      "text/plain": [
       "1.9297373336454673"
      ]
     },
     "execution_count": 29,
     "metadata": {},
     "output_type": "execute_result"
    }
   ],
   "source": [
    "Northeast"
   ]
  },
  {
   "cell_type": "code",
   "execution_count": 30,
   "id": "f4295b61",
   "metadata": {},
   "outputs": [
    {
     "data": {
      "text/plain": [
       "10229198"
      ]
     },
     "execution_count": 30,
     "metadata": {},
     "output_type": "execute_result"
    }
   ],
   "source": [
    "# Determining high spending population percentage in South\n",
    "\n",
    "10034243+194955"
   ]
  },
  {
   "cell_type": "code",
   "execution_count": 31,
   "id": "18e493f1",
   "metadata": {},
   "outputs": [],
   "source": [
    "South=(194955/10034243)*100"
   ]
  },
  {
   "cell_type": "code",
   "execution_count": 32,
   "id": "751504dc",
   "metadata": {},
   "outputs": [
    {
     "data": {
      "text/plain": [
       "1.9428969380151546"
      ]
     },
     "execution_count": 32,
     "metadata": {},
     "output_type": "execute_result"
    }
   ],
   "source": [
    "South"
   ]
  },
  {
   "cell_type": "code",
   "execution_count": 33,
   "id": "c4e50088",
   "metadata": {},
   "outputs": [
    {
     "data": {
      "text/plain": [
       "8994703"
      ]
     },
     "execution_count": 33,
     "metadata": {},
     "output_type": "execute_result"
    }
   ],
   "source": [
    "# Determining high spending population percentage in West\n",
    "\n",
    "8816145+178558"
   ]
  },
  {
   "cell_type": "code",
   "execution_count": 34,
   "id": "edcff71e",
   "metadata": {},
   "outputs": [],
   "source": [
    "West=(178558/8816145)*100"
   ]
  },
  {
   "cell_type": "code",
   "execution_count": 35,
   "id": "51d3e6f8",
   "metadata": {},
   "outputs": [
    {
     "data": {
      "text/plain": [
       "2.025352350715647"
      ]
     },
     "execution_count": 35,
     "metadata": {},
     "output_type": "execute_result"
    }
   ],
   "source": [
    "West"
   ]
  },
  {
   "cell_type": "markdown",
   "id": "3e4d07e7",
   "metadata": {},
   "source": [
    "There's a small difference between the regions when it comes to spending habits. The Midwest and West have the highest percentage of high spenders at 2.056% and 2.025%, respectively. The South and Northeast have the lowest percentage at 1.943% and 1.93%, respectively. This is interesting because cost of living tends to be higher on the coasts, so I would've expected West and Northeast to be the top two, rather than 2nd and 4th. Perhaps there's larger families in the Midwest and South and smaller/less families in the other two regions, thus making things more even in spending. Definitely something worth looking closer at."
   ]
  },
  {
   "cell_type": "markdown",
   "id": "81861426",
   "metadata": {},
   "source": [
    "# 05. Identifying and Excluding Low-activity Customers"
   ]
  },
  {
   "cell_type": "markdown",
   "id": "f8047335",
   "metadata": {},
   "source": [
    "### Q4: The Instacart CFO isn’t interested in customers who don’t generate much revenue for the app. Create an exclusion flag for low-activity customers (customers with less than 5 orders) and exclude them from the data. Make sure you export this sample."
   ]
  },
  {
   "cell_type": "code",
   "execution_count": 36,
   "id": "baae64c9",
   "metadata": {},
   "outputs": [],
   "source": [
    "# Creating a low-activity flag \n",
    "\n",
    "# Creating the conditions with loc function\n",
    "\n",
    "df_opc.loc[df_opc['max_order'] < 5, 'exclusion_flag'] = 'low activity customer'\n",
    "df_opc.loc[df_opc['max_order'] >= 5, 'exclusion_flag'] = 'regular customer'"
   ]
  },
  {
   "cell_type": "code",
   "execution_count": 37,
   "id": "246304c5",
   "metadata": {},
   "outputs": [
    {
     "data": {
      "text/plain": [
       "regular customer         31929979\n",
       "low activity customer      711289\n",
       "Name: exclusion_flag, dtype: int64"
      ]
     },
     "execution_count": 37,
     "metadata": {},
     "output_type": "execute_result"
    }
   ],
   "source": [
    "# Checking the exclusion flag \n",
    "\n",
    "df_opc['exclusion_flag'].value_counts(dropna = False)"
   ]
  },
  {
   "cell_type": "code",
   "execution_count": 38,
   "id": "68ebad8c",
   "metadata": {},
   "outputs": [],
   "source": [
    "# Creating a subset of customers to be excluded\n",
    "\n",
    "df_low_activity = df_opc[df_opc['exclusion_flag'] == 'low activity customer']"
   ]
  },
  {
   "cell_type": "code",
   "execution_count": 39,
   "id": "9cec2e9f",
   "metadata": {},
   "outputs": [
    {
     "data": {
      "text/plain": [
       "4    711289\n",
       "Name: max_order, dtype: int64"
      ]
     },
     "execution_count": 39,
     "metadata": {},
     "output_type": "execute_result"
    }
   ],
   "source": [
    "# Checking for errors, max_order values should be < 5 \n",
    "\n",
    "df_low_activity['max_order'].value_counts()"
   ]
  },
  {
   "cell_type": "code",
   "execution_count": 40,
   "id": "1b25ff5e",
   "metadata": {},
   "outputs": [],
   "source": [
    "# Exporting sample \n",
    "\n",
    "df_low_activity.to_csv(os.path.join(path, 'Prepd Data', 'low_activity.csv'))"
   ]
  },
  {
   "cell_type": "code",
   "execution_count": 41,
   "id": "5dfcc965",
   "metadata": {},
   "outputs": [],
   "source": [
    "# Create a new data frame without the low activity customers \n",
    "\n",
    "df_final = df_opc[df_opc['exclusion_flag'] == 'regular customer']"
   ]
  },
  {
   "cell_type": "code",
   "execution_count": 42,
   "id": "b9fe8541",
   "metadata": {},
   "outputs": [
    {
     "data": {
      "text/plain": [
       "regular customer    31929979\n",
       "Name: exclusion_flag, dtype: int64"
      ]
     },
     "execution_count": 42,
     "metadata": {},
     "output_type": "execute_result"
    }
   ],
   "source": [
    "# Checking whether exclusion was successful\n",
    "\n",
    "df_final['exclusion_flag'].value_counts() "
   ]
  },
  {
   "cell_type": "code",
   "execution_count": 43,
   "id": "8a15e234",
   "metadata": {},
   "outputs": [
    {
     "data": {
      "text/plain": [
       "(31929979, 32)"
      ]
     },
     "execution_count": 43,
     "metadata": {},
     "output_type": "execute_result"
    }
   ],
   "source": [
    "df_final.shape"
   ]
  },
  {
   "cell_type": "code",
   "execution_count": 44,
   "id": "6c6b743d",
   "metadata": {},
   "outputs": [
    {
     "data": {
      "text/html": [
       "<div>\n",
       "<style scoped>\n",
       "    .dataframe tbody tr th:only-of-type {\n",
       "        vertical-align: middle;\n",
       "    }\n",
       "\n",
       "    .dataframe tbody tr th {\n",
       "        vertical-align: top;\n",
       "    }\n",
       "\n",
       "    .dataframe thead th {\n",
       "        text-align: right;\n",
       "    }\n",
       "</style>\n",
       "<table border=\"1\" class=\"dataframe\">\n",
       "  <thead>\n",
       "    <tr style=\"text-align: right;\">\n",
       "      <th></th>\n",
       "      <th>order_id</th>\n",
       "      <th>user_id</th>\n",
       "      <th>order_number</th>\n",
       "      <th>orders_day_of_week</th>\n",
       "      <th>order_hour_of_day</th>\n",
       "      <th>days_since_prior_order</th>\n",
       "      <th>first_order</th>\n",
       "      <th>product_id</th>\n",
       "      <th>add_to_cart_order</th>\n",
       "      <th>reordered</th>\n",
       "      <th>...</th>\n",
       "      <th>frequency_flag</th>\n",
       "      <th>Gender</th>\n",
       "      <th>State</th>\n",
       "      <th>Age</th>\n",
       "      <th>date_joined</th>\n",
       "      <th>Dependants</th>\n",
       "      <th>Marital_status</th>\n",
       "      <th>income</th>\n",
       "      <th>Region</th>\n",
       "      <th>exclusion_flag</th>\n",
       "    </tr>\n",
       "  </thead>\n",
       "  <tbody>\n",
       "    <tr>\n",
       "      <th>0</th>\n",
       "      <td>2539329</td>\n",
       "      <td>1</td>\n",
       "      <td>1</td>\n",
       "      <td>2</td>\n",
       "      <td>8</td>\n",
       "      <td>NaN</td>\n",
       "      <td>True</td>\n",
       "      <td>196.0</td>\n",
       "      <td>1.0</td>\n",
       "      <td>0.0</td>\n",
       "      <td>...</td>\n",
       "      <td>Regular customer</td>\n",
       "      <td>Female</td>\n",
       "      <td>Alabama</td>\n",
       "      <td>31</td>\n",
       "      <td>2/17/2019</td>\n",
       "      <td>3</td>\n",
       "      <td>married</td>\n",
       "      <td>40423</td>\n",
       "      <td>South</td>\n",
       "      <td>regular customer</td>\n",
       "    </tr>\n",
       "    <tr>\n",
       "      <th>1</th>\n",
       "      <td>2539329</td>\n",
       "      <td>1</td>\n",
       "      <td>1</td>\n",
       "      <td>2</td>\n",
       "      <td>8</td>\n",
       "      <td>NaN</td>\n",
       "      <td>True</td>\n",
       "      <td>14084.0</td>\n",
       "      <td>2.0</td>\n",
       "      <td>0.0</td>\n",
       "      <td>...</td>\n",
       "      <td>Regular customer</td>\n",
       "      <td>Female</td>\n",
       "      <td>Alabama</td>\n",
       "      <td>31</td>\n",
       "      <td>2/17/2019</td>\n",
       "      <td>3</td>\n",
       "      <td>married</td>\n",
       "      <td>40423</td>\n",
       "      <td>South</td>\n",
       "      <td>regular customer</td>\n",
       "    </tr>\n",
       "    <tr>\n",
       "      <th>2</th>\n",
       "      <td>2539329</td>\n",
       "      <td>1</td>\n",
       "      <td>1</td>\n",
       "      <td>2</td>\n",
       "      <td>8</td>\n",
       "      <td>NaN</td>\n",
       "      <td>True</td>\n",
       "      <td>12427.0</td>\n",
       "      <td>3.0</td>\n",
       "      <td>0.0</td>\n",
       "      <td>...</td>\n",
       "      <td>Regular customer</td>\n",
       "      <td>Female</td>\n",
       "      <td>Alabama</td>\n",
       "      <td>31</td>\n",
       "      <td>2/17/2019</td>\n",
       "      <td>3</td>\n",
       "      <td>married</td>\n",
       "      <td>40423</td>\n",
       "      <td>South</td>\n",
       "      <td>regular customer</td>\n",
       "    </tr>\n",
       "    <tr>\n",
       "      <th>3</th>\n",
       "      <td>2539329</td>\n",
       "      <td>1</td>\n",
       "      <td>1</td>\n",
       "      <td>2</td>\n",
       "      <td>8</td>\n",
       "      <td>NaN</td>\n",
       "      <td>True</td>\n",
       "      <td>26088.0</td>\n",
       "      <td>4.0</td>\n",
       "      <td>0.0</td>\n",
       "      <td>...</td>\n",
       "      <td>Regular customer</td>\n",
       "      <td>Female</td>\n",
       "      <td>Alabama</td>\n",
       "      <td>31</td>\n",
       "      <td>2/17/2019</td>\n",
       "      <td>3</td>\n",
       "      <td>married</td>\n",
       "      <td>40423</td>\n",
       "      <td>South</td>\n",
       "      <td>regular customer</td>\n",
       "    </tr>\n",
       "    <tr>\n",
       "      <th>4</th>\n",
       "      <td>2539329</td>\n",
       "      <td>1</td>\n",
       "      <td>1</td>\n",
       "      <td>2</td>\n",
       "      <td>8</td>\n",
       "      <td>NaN</td>\n",
       "      <td>True</td>\n",
       "      <td>26405.0</td>\n",
       "      <td>5.0</td>\n",
       "      <td>0.0</td>\n",
       "      <td>...</td>\n",
       "      <td>Regular customer</td>\n",
       "      <td>Female</td>\n",
       "      <td>Alabama</td>\n",
       "      <td>31</td>\n",
       "      <td>2/17/2019</td>\n",
       "      <td>3</td>\n",
       "      <td>married</td>\n",
       "      <td>40423</td>\n",
       "      <td>South</td>\n",
       "      <td>regular customer</td>\n",
       "    </tr>\n",
       "  </tbody>\n",
       "</table>\n",
       "<p>5 rows × 32 columns</p>\n",
       "</div>"
      ],
      "text/plain": [
       "   order_id user_id  order_number  orders_day_of_week  order_hour_of_day  \\\n",
       "0   2539329       1             1                   2                  8   \n",
       "1   2539329       1             1                   2                  8   \n",
       "2   2539329       1             1                   2                  8   \n",
       "3   2539329       1             1                   2                  8   \n",
       "4   2539329       1             1                   2                  8   \n",
       "\n",
       "   days_since_prior_order  first_order  product_id  add_to_cart_order  \\\n",
       "0                     NaN         True       196.0                1.0   \n",
       "1                     NaN         True     14084.0                2.0   \n",
       "2                     NaN         True     12427.0                3.0   \n",
       "3                     NaN         True     26088.0                4.0   \n",
       "4                     NaN         True     26405.0                5.0   \n",
       "\n",
       "   reordered  ...    frequency_flag  Gender    State  Age date_joined  \\\n",
       "0        0.0  ...  Regular customer  Female  Alabama   31   2/17/2019   \n",
       "1        0.0  ...  Regular customer  Female  Alabama   31   2/17/2019   \n",
       "2        0.0  ...  Regular customer  Female  Alabama   31   2/17/2019   \n",
       "3        0.0  ...  Regular customer  Female  Alabama   31   2/17/2019   \n",
       "4        0.0  ...  Regular customer  Female  Alabama   31   2/17/2019   \n",
       "\n",
       "  Dependants Marital_status  income Region    exclusion_flag  \n",
       "0          3        married   40423  South  regular customer  \n",
       "1          3        married   40423  South  regular customer  \n",
       "2          3        married   40423  South  regular customer  \n",
       "3          3        married   40423  South  regular customer  \n",
       "4          3        married   40423  South  regular customer  \n",
       "\n",
       "[5 rows x 32 columns]"
      ]
     },
     "execution_count": 44,
     "metadata": {},
     "output_type": "execute_result"
    }
   ],
   "source": [
    "df_final.head()"
   ]
  },
  {
   "cell_type": "markdown",
   "id": "047b2a01",
   "metadata": {},
   "source": [
    "# 06. Customer Profiling and Deriving Columns "
   ]
  },
  {
   "cell_type": "markdown",
   "id": "e6a0fc4e",
   "metadata": {},
   "source": [
    "### Q5 - The marketing and business strategy units at Instacart want to create more-relevant marketing strategies for different products and are, thus, curious about customer profiling in their database. Create a profiling variable based on age, income, certain goods in the “department_id” column, and number of dependents. You might also use the “orders_day_of_the_week” and “order_hour_of_day” columns if you can think of a way they would impact customer profiles. (Hint: As an example, try thinking of what characteristics would lead you to the profile “Single adult” or “Young parent.”)"
   ]
  },
  {
   "cell_type": "code",
   "execution_count": 45,
   "id": "d952ecef",
   "metadata": {},
   "outputs": [
    {
     "data": {
      "text/plain": [
       "order_id                     int64\n",
       "user_id                     object\n",
       "order_number                 int16\n",
       "orders_day_of_week           int16\n",
       "order_hour_of_day            int16\n",
       "days_since_prior_order     float16\n",
       "first_order                   bool\n",
       "product_id                 float32\n",
       "add_to_cart_order          float16\n",
       "reordered                  float16\n",
       "product_name              category\n",
       "aisle_id                   float16\n",
       "department_id              float16\n",
       "prices                     float32\n",
       "busiest_day               category\n",
       "busiest_days              category\n",
       "busiest_period_of_day     category\n",
       "max_order                    int16\n",
       "loyalty_flag              category\n",
       "avg_price                  float16\n",
       "spending_flag             category\n",
       "order_frequency            float16\n",
       "frequency_flag            category\n",
       "Gender                    category\n",
       "State                     category\n",
       "Age                          int16\n",
       "date_joined               category\n",
       "Dependants                   int16\n",
       "Marital_status            category\n",
       "income                       int32\n",
       "Region                    category\n",
       "exclusion_flag              object\n",
       "dtype: object"
      ]
     },
     "execution_count": 45,
     "metadata": {},
     "output_type": "execute_result"
    }
   ],
   "source": [
    "# Refresh on the potential variables\n",
    "\n",
    "df_final.dtypes"
   ]
  },
  {
   "cell_type": "markdown",
   "id": "5c9c3c52",
   "metadata": {},
   "source": [
    "### 6.1 Generational"
   ]
  },
  {
   "cell_type": "code",
   "execution_count": 46,
   "id": "93991d27",
   "metadata": {},
   "outputs": [
    {
     "name": "stderr",
     "output_type": "stream",
     "text": [
      "C:\\Users\\rasmu\\Downloads\\AnacondaNew\\lib\\site-packages\\pandas\\core\\indexing.py:1599: SettingWithCopyWarning: \n",
      "A value is trying to be set on a copy of a slice from a DataFrame.\n",
      "Try using .loc[row_indexer,col_indexer] = value instead\n",
      "\n",
      "See the caveats in the documentation: https://pandas.pydata.org/pandas-docs/stable/user_guide/indexing.html#returning-a-view-versus-a-copy\n",
      "  self.obj[key] = infer_fill_value(value)\n",
      "C:\\Users\\rasmu\\Downloads\\AnacondaNew\\lib\\site-packages\\pandas\\core\\indexing.py:1720: SettingWithCopyWarning: \n",
      "A value is trying to be set on a copy of a slice from a DataFrame.\n",
      "Try using .loc[row_indexer,col_indexer] = value instead\n",
      "\n",
      "See the caveats in the documentation: https://pandas.pydata.org/pandas-docs/stable/user_guide/indexing.html#returning-a-view-versus-a-copy\n",
      "  self._setitem_single_column(loc, value, pi)\n",
      "C:\\Users\\rasmu\\Downloads\\AnacondaNew\\lib\\site-packages\\pandas\\core\\indexing.py:1720: SettingWithCopyWarning: \n",
      "A value is trying to be set on a copy of a slice from a DataFrame.\n",
      "Try using .loc[row_indexer,col_indexer] = value instead\n",
      "\n",
      "See the caveats in the documentation: https://pandas.pydata.org/pandas-docs/stable/user_guide/indexing.html#returning-a-view-versus-a-copy\n",
      "  self._setitem_single_column(loc, value, pi)\n",
      "C:\\Users\\rasmu\\Downloads\\AnacondaNew\\lib\\site-packages\\pandas\\core\\indexing.py:1720: SettingWithCopyWarning: \n",
      "A value is trying to be set on a copy of a slice from a DataFrame.\n",
      "Try using .loc[row_indexer,col_indexer] = value instead\n",
      "\n",
      "See the caveats in the documentation: https://pandas.pydata.org/pandas-docs/stable/user_guide/indexing.html#returning-a-view-versus-a-copy\n",
      "  self._setitem_single_column(loc, value, pi)\n",
      "C:\\Users\\rasmu\\Downloads\\AnacondaNew\\lib\\site-packages\\pandas\\core\\indexing.py:1720: SettingWithCopyWarning: \n",
      "A value is trying to be set on a copy of a slice from a DataFrame.\n",
      "Try using .loc[row_indexer,col_indexer] = value instead\n",
      "\n",
      "See the caveats in the documentation: https://pandas.pydata.org/pandas-docs/stable/user_guide/indexing.html#returning-a-view-versus-a-copy\n",
      "  self._setitem_single_column(loc, value, pi)\n",
      "C:\\Users\\rasmu\\Downloads\\AnacondaNew\\lib\\site-packages\\pandas\\core\\indexing.py:1720: SettingWithCopyWarning: \n",
      "A value is trying to be set on a copy of a slice from a DataFrame.\n",
      "Try using .loc[row_indexer,col_indexer] = value instead\n",
      "\n",
      "See the caveats in the documentation: https://pandas.pydata.org/pandas-docs/stable/user_guide/indexing.html#returning-a-view-versus-a-copy\n",
      "  self._setitem_single_column(loc, value, pi)\n"
     ]
    }
   ],
   "source": [
    "# Creating age groups based on Generations (Source: https://www.mentalfloss.com/article/609811/age-ranges-millennials-and-generation-z)\n",
    "# Previously found max age is 81 and min age is 18\n",
    "\n",
    "df_final.loc[df_final['Age'] < 25, 'Generation'] = 'Gen_Z'\n",
    "df_final.loc[(df_final['Age'] >= 25) & (df_final['Age'] <= 40), 'Generation'] = 'Millennials'\n",
    "df_final.loc[(df_final['Age'] >= 41) & (df_final['Age'] <= 56), 'Generation'] = 'Gen_X'\n",
    "df_final.loc[(df_final['Age'] >= 57) & (df_final['Age'] <= 75), 'Generation'] = 'Boomers'\n",
    "df_final.loc[df_final['Age'] >= 76, 'Generation'] = 'Silent_Gen'"
   ]
  },
  {
   "cell_type": "code",
   "execution_count": 47,
   "id": "30e47d51",
   "metadata": {},
   "outputs": [
    {
     "data": {
      "text/plain": [
       "Boomers        9379352\n",
       "Gen_X          8046389\n",
       "Millennials    7975166\n",
       "Gen_Z          3522568\n",
       "Silent_Gen     3006504\n",
       "Name: Generation, dtype: int64"
      ]
     },
     "execution_count": 47,
     "metadata": {},
     "output_type": "execute_result"
    }
   ],
   "source": [
    "df_final['Generation'].value_counts()"
   ]
  },
  {
   "cell_type": "code",
   "execution_count": 48,
   "id": "ca36a9a4",
   "metadata": {},
   "outputs": [
    {
     "data": {
      "text/plain": [
       "Index(['order_id', 'user_id', 'order_number', 'orders_day_of_week',\n",
       "       'order_hour_of_day', 'days_since_prior_order', 'first_order',\n",
       "       'product_id', 'add_to_cart_order', 'reordered', 'product_name',\n",
       "       'aisle_id', 'department_id', 'prices', 'busiest_day', 'busiest_days',\n",
       "       'busiest_period_of_day', 'max_order', 'loyalty_flag', 'avg_price',\n",
       "       'spending_flag', 'order_frequency', 'frequency_flag', 'Gender', 'State',\n",
       "       'Age', 'date_joined', 'Dependants', 'Marital_status', 'income',\n",
       "       'Region', 'exclusion_flag', 'Generation'],\n",
       "      dtype='object')"
      ]
     },
     "execution_count": 48,
     "metadata": {},
     "output_type": "execute_result"
    }
   ],
   "source": [
    "# Checking new variables saved to df\n",
    "\n",
    "df_final.columns"
   ]
  },
  {
   "cell_type": "markdown",
   "id": "0c042b9d",
   "metadata": {},
   "source": [
    "### 6.2 Income Categories"
   ]
  },
  {
   "cell_type": "code",
   "execution_count": 49,
   "id": "6598e647",
   "metadata": {},
   "outputs": [
    {
     "name": "stderr",
     "output_type": "stream",
     "text": [
      "C:\\Users\\rasmu\\Downloads\\AnacondaNew\\lib\\site-packages\\pandas\\core\\indexing.py:1599: SettingWithCopyWarning: \n",
      "A value is trying to be set on a copy of a slice from a DataFrame.\n",
      "Try using .loc[row_indexer,col_indexer] = value instead\n",
      "\n",
      "See the caveats in the documentation: https://pandas.pydata.org/pandas-docs/stable/user_guide/indexing.html#returning-a-view-versus-a-copy\n",
      "  self.obj[key] = infer_fill_value(value)\n",
      "C:\\Users\\rasmu\\Downloads\\AnacondaNew\\lib\\site-packages\\pandas\\core\\indexing.py:1720: SettingWithCopyWarning: \n",
      "A value is trying to be set on a copy of a slice from a DataFrame.\n",
      "Try using .loc[row_indexer,col_indexer] = value instead\n",
      "\n",
      "See the caveats in the documentation: https://pandas.pydata.org/pandas-docs/stable/user_guide/indexing.html#returning-a-view-versus-a-copy\n",
      "  self._setitem_single_column(loc, value, pi)\n",
      "C:\\Users\\rasmu\\Downloads\\AnacondaNew\\lib\\site-packages\\pandas\\core\\indexing.py:1720: SettingWithCopyWarning: \n",
      "A value is trying to be set on a copy of a slice from a DataFrame.\n",
      "Try using .loc[row_indexer,col_indexer] = value instead\n",
      "\n",
      "See the caveats in the documentation: https://pandas.pydata.org/pandas-docs/stable/user_guide/indexing.html#returning-a-view-versus-a-copy\n",
      "  self._setitem_single_column(loc, value, pi)\n",
      "C:\\Users\\rasmu\\Downloads\\AnacondaNew\\lib\\site-packages\\pandas\\core\\indexing.py:1720: SettingWithCopyWarning: \n",
      "A value is trying to be set on a copy of a slice from a DataFrame.\n",
      "Try using .loc[row_indexer,col_indexer] = value instead\n",
      "\n",
      "See the caveats in the documentation: https://pandas.pydata.org/pandas-docs/stable/user_guide/indexing.html#returning-a-view-versus-a-copy\n",
      "  self._setitem_single_column(loc, value, pi)\n",
      "C:\\Users\\rasmu\\Downloads\\AnacondaNew\\lib\\site-packages\\pandas\\core\\indexing.py:1720: SettingWithCopyWarning: \n",
      "A value is trying to be set on a copy of a slice from a DataFrame.\n",
      "Try using .loc[row_indexer,col_indexer] = value instead\n",
      "\n",
      "See the caveats in the documentation: https://pandas.pydata.org/pandas-docs/stable/user_guide/indexing.html#returning-a-view-versus-a-copy\n",
      "  self._setitem_single_column(loc, value, pi)\n",
      "C:\\Users\\rasmu\\Downloads\\AnacondaNew\\lib\\site-packages\\pandas\\core\\indexing.py:1720: SettingWithCopyWarning: \n",
      "A value is trying to be set on a copy of a slice from a DataFrame.\n",
      "Try using .loc[row_indexer,col_indexer] = value instead\n",
      "\n",
      "See the caveats in the documentation: https://pandas.pydata.org/pandas-docs/stable/user_guide/indexing.html#returning-a-view-versus-a-copy\n",
      "  self._setitem_single_column(loc, value, pi)\n",
      "C:\\Users\\rasmu\\Downloads\\AnacondaNew\\lib\\site-packages\\pandas\\core\\indexing.py:1720: SettingWithCopyWarning: \n",
      "A value is trying to be set on a copy of a slice from a DataFrame.\n",
      "Try using .loc[row_indexer,col_indexer] = value instead\n",
      "\n",
      "See the caveats in the documentation: https://pandas.pydata.org/pandas-docs/stable/user_guide/indexing.html#returning-a-view-versus-a-copy\n",
      "  self._setitem_single_column(loc, value, pi)\n"
     ]
    }
   ],
   "source": [
    "# Creating groups for income brackets\n",
    "\n",
    "df_final.loc[df_final['income'] < 50000, 'income_range'] = '0 - 50k'\n",
    "df_final.loc[(df_final['income'] >= 50000) & (df_final['income'] < 100000), 'income_range'] = '050-100k'\n",
    "df_final.loc[(df_final['income'] >= 100000) & (df_final['income'] < 150000), 'income_range'] = '100-150k'\n",
    "df_final.loc[(df_final['income'] >= 150000) & (df_final['income'] < 200000), 'income_range'] = '150-200k'\n",
    "df_final.loc[(df_final['income'] >= 200000) & (df_final['income'] < 300000), 'income_range'] = '200-300k'\n",
    "df_final.loc[(df_final['income'] >= 300000), 'income_range'] = 'Over 300k'"
   ]
  },
  {
   "cell_type": "code",
   "execution_count": 50,
   "id": "49f318ee",
   "metadata": {},
   "outputs": [
    {
     "data": {
      "text/plain": [
       "0 - 50k       3511073\n",
       "050-100k     13799255\n",
       "100-150k     10618781\n",
       "150-200k      3743090\n",
       "200-300k       156413\n",
       "Over 300k      101367\n",
       "Name: income_range, dtype: int64"
      ]
     },
     "execution_count": 50,
     "metadata": {},
     "output_type": "execute_result"
    }
   ],
   "source": [
    "df_final['income_range'].value_counts().sort_index()"
   ]
  },
  {
   "cell_type": "code",
   "execution_count": 51,
   "id": "11d7a02c",
   "metadata": {},
   "outputs": [
    {
     "data": {
      "text/plain": [
       "Index(['order_id', 'user_id', 'order_number', 'orders_day_of_week',\n",
       "       'order_hour_of_day', 'days_since_prior_order', 'first_order',\n",
       "       'product_id', 'add_to_cart_order', 'reordered', 'product_name',\n",
       "       'aisle_id', 'department_id', 'prices', 'busiest_day', 'busiest_days',\n",
       "       'busiest_period_of_day', 'max_order', 'loyalty_flag', 'avg_price',\n",
       "       'spending_flag', 'order_frequency', 'frequency_flag', 'Gender', 'State',\n",
       "       'Age', 'date_joined', 'Dependants', 'Marital_status', 'income',\n",
       "       'Region', 'exclusion_flag', 'Generation', 'income_range'],\n",
       "      dtype='object')"
      ]
     },
     "execution_count": 51,
     "metadata": {},
     "output_type": "execute_result"
    }
   ],
   "source": [
    "# Checking new variable saved to df\n",
    "\n",
    "df_final.columns"
   ]
  },
  {
   "cell_type": "markdown",
   "id": "e29f06ba",
   "metadata": {},
   "source": [
    "### 6.3 Parental Status"
   ]
  },
  {
   "cell_type": "code",
   "execution_count": 52,
   "id": "012ce8b8",
   "metadata": {},
   "outputs": [
    {
     "data": {
      "text/plain": [
       "0    7979527\n",
       "1    7961567\n",
       "2    7974823\n",
       "3    8014062\n",
       "Name: Dependants, dtype: int64"
      ]
     },
     "execution_count": 52,
     "metadata": {},
     "output_type": "execute_result"
    }
   ],
   "source": [
    "# Checking the frequency of dependants column\n",
    "\n",
    "df_final['Dependants'].value_counts().sort_index()"
   ]
  },
  {
   "cell_type": "code",
   "execution_count": 53,
   "id": "665b0174",
   "metadata": {},
   "outputs": [
    {
     "name": "stderr",
     "output_type": "stream",
     "text": [
      "C:\\Users\\rasmu\\Downloads\\AnacondaNew\\lib\\site-packages\\pandas\\core\\indexing.py:1599: SettingWithCopyWarning: \n",
      "A value is trying to be set on a copy of a slice from a DataFrame.\n",
      "Try using .loc[row_indexer,col_indexer] = value instead\n",
      "\n",
      "See the caveats in the documentation: https://pandas.pydata.org/pandas-docs/stable/user_guide/indexing.html#returning-a-view-versus-a-copy\n",
      "  self.obj[key] = infer_fill_value(value)\n",
      "C:\\Users\\rasmu\\Downloads\\AnacondaNew\\lib\\site-packages\\pandas\\core\\indexing.py:1720: SettingWithCopyWarning: \n",
      "A value is trying to be set on a copy of a slice from a DataFrame.\n",
      "Try using .loc[row_indexer,col_indexer] = value instead\n",
      "\n",
      "See the caveats in the documentation: https://pandas.pydata.org/pandas-docs/stable/user_guide/indexing.html#returning-a-view-versus-a-copy\n",
      "  self._setitem_single_column(loc, value, pi)\n",
      "C:\\Users\\rasmu\\Downloads\\AnacondaNew\\lib\\site-packages\\pandas\\core\\indexing.py:1720: SettingWithCopyWarning: \n",
      "A value is trying to be set on a copy of a slice from a DataFrame.\n",
      "Try using .loc[row_indexer,col_indexer] = value instead\n",
      "\n",
      "See the caveats in the documentation: https://pandas.pydata.org/pandas-docs/stable/user_guide/indexing.html#returning-a-view-versus-a-copy\n",
      "  self._setitem_single_column(loc, value, pi)\n"
     ]
    }
   ],
   "source": [
    "# Create conditions with loc function \n",
    "\n",
    "df_final.loc[df_final['Dependants'] == 0, 'parental_status'] = 'not parent'\n",
    "df_final.loc[df_final['Dependants'] >= 1, 'parental_status'] = 'parent'"
   ]
  },
  {
   "cell_type": "code",
   "execution_count": 54,
   "id": "b04dcde7",
   "metadata": {},
   "outputs": [
    {
     "data": {
      "text/plain": [
       "parent        23950452\n",
       "not parent     7979527\n",
       "Name: parental_status, dtype: int64"
      ]
     },
     "execution_count": 54,
     "metadata": {},
     "output_type": "execute_result"
    }
   ],
   "source": [
    "# Checking parental_status column \n",
    "\n",
    "df_final['parental_status'].value_counts(dropna = False)"
   ]
  },
  {
   "cell_type": "markdown",
   "id": "4ffd149b",
   "metadata": {},
   "source": [
    "### 6.4 Family Status"
   ]
  },
  {
   "cell_type": "code",
   "execution_count": 55,
   "id": "7b9e6c6e",
   "metadata": {},
   "outputs": [
    {
     "data": {
      "text/plain": [
       "married                             22421852\n",
       "single                               5248979\n",
       "divorced/widowed                     2730548\n",
       "living with parents and siblings     1528600\n",
       "Name: Marital_status, dtype: int64"
      ]
     },
     "execution_count": 55,
     "metadata": {},
     "output_type": "execute_result"
    }
   ],
   "source": [
    "# Checking the variable numbers\n",
    "\n",
    "df_final['Marital_status'].value_counts()"
   ]
  },
  {
   "cell_type": "markdown",
   "id": "ac3beb6e",
   "metadata": {},
   "source": [
    "### 6.5 Day of the Week Clean-up"
   ]
  },
  {
   "cell_type": "code",
   "execution_count": 56,
   "id": "c49fdc32",
   "metadata": {},
   "outputs": [
    {
     "name": "stderr",
     "output_type": "stream",
     "text": [
      "C:\\Users\\rasmu\\Downloads\\AnacondaNew\\lib\\site-packages\\pandas\\core\\indexing.py:1599: SettingWithCopyWarning: \n",
      "A value is trying to be set on a copy of a slice from a DataFrame.\n",
      "Try using .loc[row_indexer,col_indexer] = value instead\n",
      "\n",
      "See the caveats in the documentation: https://pandas.pydata.org/pandas-docs/stable/user_guide/indexing.html#returning-a-view-versus-a-copy\n",
      "  self.obj[key] = infer_fill_value(value)\n",
      "C:\\Users\\rasmu\\Downloads\\AnacondaNew\\lib\\site-packages\\pandas\\core\\indexing.py:1720: SettingWithCopyWarning: \n",
      "A value is trying to be set on a copy of a slice from a DataFrame.\n",
      "Try using .loc[row_indexer,col_indexer] = value instead\n",
      "\n",
      "See the caveats in the documentation: https://pandas.pydata.org/pandas-docs/stable/user_guide/indexing.html#returning-a-view-versus-a-copy\n",
      "  self._setitem_single_column(loc, value, pi)\n",
      "C:\\Users\\rasmu\\Downloads\\AnacondaNew\\lib\\site-packages\\pandas\\core\\indexing.py:1720: SettingWithCopyWarning: \n",
      "A value is trying to be set on a copy of a slice from a DataFrame.\n",
      "Try using .loc[row_indexer,col_indexer] = value instead\n",
      "\n",
      "See the caveats in the documentation: https://pandas.pydata.org/pandas-docs/stable/user_guide/indexing.html#returning-a-view-versus-a-copy\n",
      "  self._setitem_single_column(loc, value, pi)\n",
      "C:\\Users\\rasmu\\Downloads\\AnacondaNew\\lib\\site-packages\\pandas\\core\\indexing.py:1720: SettingWithCopyWarning: \n",
      "A value is trying to be set on a copy of a slice from a DataFrame.\n",
      "Try using .loc[row_indexer,col_indexer] = value instead\n",
      "\n",
      "See the caveats in the documentation: https://pandas.pydata.org/pandas-docs/stable/user_guide/indexing.html#returning-a-view-versus-a-copy\n",
      "  self._setitem_single_column(loc, value, pi)\n",
      "C:\\Users\\rasmu\\Downloads\\AnacondaNew\\lib\\site-packages\\pandas\\core\\indexing.py:1720: SettingWithCopyWarning: \n",
      "A value is trying to be set on a copy of a slice from a DataFrame.\n",
      "Try using .loc[row_indexer,col_indexer] = value instead\n",
      "\n",
      "See the caveats in the documentation: https://pandas.pydata.org/pandas-docs/stable/user_guide/indexing.html#returning-a-view-versus-a-copy\n",
      "  self._setitem_single_column(loc, value, pi)\n",
      "C:\\Users\\rasmu\\Downloads\\AnacondaNew\\lib\\site-packages\\pandas\\core\\indexing.py:1720: SettingWithCopyWarning: \n",
      "A value is trying to be set on a copy of a slice from a DataFrame.\n",
      "Try using .loc[row_indexer,col_indexer] = value instead\n",
      "\n",
      "See the caveats in the documentation: https://pandas.pydata.org/pandas-docs/stable/user_guide/indexing.html#returning-a-view-versus-a-copy\n",
      "  self._setitem_single_column(loc, value, pi)\n",
      "C:\\Users\\rasmu\\Downloads\\AnacondaNew\\lib\\site-packages\\pandas\\core\\indexing.py:1720: SettingWithCopyWarning: \n",
      "A value is trying to be set on a copy of a slice from a DataFrame.\n",
      "Try using .loc[row_indexer,col_indexer] = value instead\n",
      "\n",
      "See the caveats in the documentation: https://pandas.pydata.org/pandas-docs/stable/user_guide/indexing.html#returning-a-view-versus-a-copy\n",
      "  self._setitem_single_column(loc, value, pi)\n",
      "C:\\Users\\rasmu\\Downloads\\AnacondaNew\\lib\\site-packages\\pandas\\core\\indexing.py:1720: SettingWithCopyWarning: \n",
      "A value is trying to be set on a copy of a slice from a DataFrame.\n",
      "Try using .loc[row_indexer,col_indexer] = value instead\n",
      "\n",
      "See the caveats in the documentation: https://pandas.pydata.org/pandas-docs/stable/user_guide/indexing.html#returning-a-view-versus-a-copy\n",
      "  self._setitem_single_column(loc, value, pi)\n"
     ]
    }
   ],
   "source": [
    "# Creating day of week column with actual days using loc function \n",
    "\n",
    "df_final.loc[df_final['orders_day_of_week'] == 0, 'day'] = 'Saturday'\n",
    "df_final.loc[df_final['orders_day_of_week'] == 1, 'day'] = 'Sunday'\n",
    "df_final.loc[df_final['orders_day_of_week'] == 2, 'day'] = 'Monday'\n",
    "df_final.loc[df_final['orders_day_of_week'] == 3, 'day'] = 'Tuesday'\n",
    "df_final.loc[df_final['orders_day_of_week'] == 4, 'day'] = 'Wednesday'\n",
    "df_final.loc[df_final['orders_day_of_week'] == 5, 'day'] = 'Thursday'\n",
    "df_final.loc[df_final['orders_day_of_week'] == 6, 'day'] = 'Friday'"
   ]
  },
  {
   "cell_type": "code",
   "execution_count": 57,
   "id": "93e67972",
   "metadata": {},
   "outputs": [
    {
     "data": {
      "text/plain": [
       "Saturday     6107725\n",
       "Sunday       5572954\n",
       "Friday       4428913\n",
       "Thursday     4152834\n",
       "Monday       4147880\n",
       "Tuesday      3785966\n",
       "Wednesday    3733707\n",
       "Name: day, dtype: int64"
      ]
     },
     "execution_count": 57,
     "metadata": {},
     "output_type": "execute_result"
    }
   ],
   "source": [
    "# Checking weekday column \n",
    "\n",
    "df_final['day'].value_counts()"
   ]
  },
  {
   "cell_type": "markdown",
   "id": "87533e89",
   "metadata": {},
   "source": [
    "### 6.6 Department Clarification"
   ]
  },
  {
   "cell_type": "code",
   "execution_count": 58,
   "id": "d2fc95c5",
   "metadata": {},
   "outputs": [],
   "source": [
    "# Import department data \n",
    "\n",
    "df_dept = pd.read_csv(os.path.join(path, 'Orig Data', 'departments.csv'), index_col = False)"
   ]
  },
  {
   "cell_type": "code",
   "execution_count": 59,
   "id": "db697530",
   "metadata": {},
   "outputs": [
    {
     "data": {
      "text/html": [
       "<div>\n",
       "<style scoped>\n",
       "    .dataframe tbody tr th:only-of-type {\n",
       "        vertical-align: middle;\n",
       "    }\n",
       "\n",
       "    .dataframe tbody tr th {\n",
       "        vertical-align: top;\n",
       "    }\n",
       "\n",
       "    .dataframe thead th {\n",
       "        text-align: right;\n",
       "    }\n",
       "</style>\n",
       "<table border=\"1\" class=\"dataframe\">\n",
       "  <thead>\n",
       "    <tr style=\"text-align: right;\">\n",
       "      <th></th>\n",
       "      <th>department_id</th>\n",
       "      <th>1</th>\n",
       "      <th>2</th>\n",
       "      <th>3</th>\n",
       "      <th>4</th>\n",
       "      <th>5</th>\n",
       "      <th>6</th>\n",
       "      <th>7</th>\n",
       "      <th>8</th>\n",
       "      <th>9</th>\n",
       "      <th>...</th>\n",
       "      <th>12</th>\n",
       "      <th>13</th>\n",
       "      <th>14</th>\n",
       "      <th>15</th>\n",
       "      <th>16</th>\n",
       "      <th>17</th>\n",
       "      <th>18</th>\n",
       "      <th>19</th>\n",
       "      <th>20</th>\n",
       "      <th>21</th>\n",
       "    </tr>\n",
       "  </thead>\n",
       "  <tbody>\n",
       "    <tr>\n",
       "      <th>0</th>\n",
       "      <td>department</td>\n",
       "      <td>frozen</td>\n",
       "      <td>other</td>\n",
       "      <td>bakery</td>\n",
       "      <td>produce</td>\n",
       "      <td>alcohol</td>\n",
       "      <td>international</td>\n",
       "      <td>beverages</td>\n",
       "      <td>pets</td>\n",
       "      <td>dry goods pasta</td>\n",
       "      <td>...</td>\n",
       "      <td>meat seafood</td>\n",
       "      <td>pantry</td>\n",
       "      <td>breakfast</td>\n",
       "      <td>canned goods</td>\n",
       "      <td>dairy eggs</td>\n",
       "      <td>household</td>\n",
       "      <td>babies</td>\n",
       "      <td>snacks</td>\n",
       "      <td>deli</td>\n",
       "      <td>missing</td>\n",
       "    </tr>\n",
       "  </tbody>\n",
       "</table>\n",
       "<p>1 rows × 22 columns</p>\n",
       "</div>"
      ],
      "text/plain": [
       "  department_id       1      2       3        4        5              6  \\\n",
       "0    department  frozen  other  bakery  produce  alcohol  international   \n",
       "\n",
       "           7     8                9  ...            12      13         14  \\\n",
       "0  beverages  pets  dry goods pasta  ...  meat seafood  pantry  breakfast   \n",
       "\n",
       "             15          16         17      18      19    20       21  \n",
       "0  canned goods  dairy eggs  household  babies  snacks  deli  missing  \n",
       "\n",
       "[1 rows x 22 columns]"
      ]
     },
     "execution_count": 59,
     "metadata": {},
     "output_type": "execute_result"
    }
   ],
   "source": [
    "df_dept.head()"
   ]
  },
  {
   "cell_type": "code",
   "execution_count": 60,
   "id": "0e381466",
   "metadata": {},
   "outputs": [
    {
     "data": {
      "text/html": [
       "<div>\n",
       "<style scoped>\n",
       "    .dataframe tbody tr th:only-of-type {\n",
       "        vertical-align: middle;\n",
       "    }\n",
       "\n",
       "    .dataframe tbody tr th {\n",
       "        vertical-align: top;\n",
       "    }\n",
       "\n",
       "    .dataframe thead th {\n",
       "        text-align: right;\n",
       "    }\n",
       "</style>\n",
       "<table border=\"1\" class=\"dataframe\">\n",
       "  <thead>\n",
       "    <tr style=\"text-align: right;\">\n",
       "      <th></th>\n",
       "      <th>0</th>\n",
       "    </tr>\n",
       "  </thead>\n",
       "  <tbody>\n",
       "    <tr>\n",
       "      <th>department_id</th>\n",
       "      <td>department</td>\n",
       "    </tr>\n",
       "    <tr>\n",
       "      <th>1</th>\n",
       "      <td>frozen</td>\n",
       "    </tr>\n",
       "    <tr>\n",
       "      <th>2</th>\n",
       "      <td>other</td>\n",
       "    </tr>\n",
       "    <tr>\n",
       "      <th>3</th>\n",
       "      <td>bakery</td>\n",
       "    </tr>\n",
       "    <tr>\n",
       "      <th>4</th>\n",
       "      <td>produce</td>\n",
       "    </tr>\n",
       "    <tr>\n",
       "      <th>5</th>\n",
       "      <td>alcohol</td>\n",
       "    </tr>\n",
       "    <tr>\n",
       "      <th>6</th>\n",
       "      <td>international</td>\n",
       "    </tr>\n",
       "    <tr>\n",
       "      <th>7</th>\n",
       "      <td>beverages</td>\n",
       "    </tr>\n",
       "    <tr>\n",
       "      <th>8</th>\n",
       "      <td>pets</td>\n",
       "    </tr>\n",
       "    <tr>\n",
       "      <th>9</th>\n",
       "      <td>dry goods pasta</td>\n",
       "    </tr>\n",
       "    <tr>\n",
       "      <th>10</th>\n",
       "      <td>bulk</td>\n",
       "    </tr>\n",
       "    <tr>\n",
       "      <th>11</th>\n",
       "      <td>personal care</td>\n",
       "    </tr>\n",
       "    <tr>\n",
       "      <th>12</th>\n",
       "      <td>meat seafood</td>\n",
       "    </tr>\n",
       "    <tr>\n",
       "      <th>13</th>\n",
       "      <td>pantry</td>\n",
       "    </tr>\n",
       "    <tr>\n",
       "      <th>14</th>\n",
       "      <td>breakfast</td>\n",
       "    </tr>\n",
       "    <tr>\n",
       "      <th>15</th>\n",
       "      <td>canned goods</td>\n",
       "    </tr>\n",
       "    <tr>\n",
       "      <th>16</th>\n",
       "      <td>dairy eggs</td>\n",
       "    </tr>\n",
       "    <tr>\n",
       "      <th>17</th>\n",
       "      <td>household</td>\n",
       "    </tr>\n",
       "    <tr>\n",
       "      <th>18</th>\n",
       "      <td>babies</td>\n",
       "    </tr>\n",
       "    <tr>\n",
       "      <th>19</th>\n",
       "      <td>snacks</td>\n",
       "    </tr>\n",
       "    <tr>\n",
       "      <th>20</th>\n",
       "      <td>deli</td>\n",
       "    </tr>\n",
       "    <tr>\n",
       "      <th>21</th>\n",
       "      <td>missing</td>\n",
       "    </tr>\n",
       "  </tbody>\n",
       "</table>\n",
       "</div>"
      ],
      "text/plain": [
       "                             0\n",
       "department_id       department\n",
       "1                       frozen\n",
       "2                        other\n",
       "3                       bakery\n",
       "4                      produce\n",
       "5                      alcohol\n",
       "6                international\n",
       "7                    beverages\n",
       "8                         pets\n",
       "9              dry goods pasta\n",
       "10                        bulk\n",
       "11               personal care\n",
       "12                meat seafood\n",
       "13                      pantry\n",
       "14                   breakfast\n",
       "15                canned goods\n",
       "16                  dairy eggs\n",
       "17                   household\n",
       "18                      babies\n",
       "19                      snacks\n",
       "20                        deli\n",
       "21                     missing"
      ]
     },
     "execution_count": 60,
     "metadata": {},
     "output_type": "execute_result"
    }
   ],
   "source": [
    "# Transpose the table\n",
    "\n",
    "# Check departments to help profiling variables soon\n",
    "\n",
    "df_dept.T"
   ]
  },
  {
   "cell_type": "code",
   "execution_count": 61,
   "id": "dd417bb1",
   "metadata": {},
   "outputs": [
    {
     "name": "stderr",
     "output_type": "stream",
     "text": [
      "C:\\Users\\rasmu\\Downloads\\AnacondaNew\\lib\\site-packages\\pandas\\core\\indexing.py:1599: SettingWithCopyWarning: \n",
      "A value is trying to be set on a copy of a slice from a DataFrame.\n",
      "Try using .loc[row_indexer,col_indexer] = value instead\n",
      "\n",
      "See the caveats in the documentation: https://pandas.pydata.org/pandas-docs/stable/user_guide/indexing.html#returning-a-view-versus-a-copy\n",
      "  self.obj[key] = infer_fill_value(value)\n",
      "C:\\Users\\rasmu\\Downloads\\AnacondaNew\\lib\\site-packages\\pandas\\core\\indexing.py:1720: SettingWithCopyWarning: \n",
      "A value is trying to be set on a copy of a slice from a DataFrame.\n",
      "Try using .loc[row_indexer,col_indexer] = value instead\n",
      "\n",
      "See the caveats in the documentation: https://pandas.pydata.org/pandas-docs/stable/user_guide/indexing.html#returning-a-view-versus-a-copy\n",
      "  self._setitem_single_column(loc, value, pi)\n",
      "C:\\Users\\rasmu\\Downloads\\AnacondaNew\\lib\\site-packages\\pandas\\core\\indexing.py:1720: SettingWithCopyWarning: \n",
      "A value is trying to be set on a copy of a slice from a DataFrame.\n",
      "Try using .loc[row_indexer,col_indexer] = value instead\n",
      "\n",
      "See the caveats in the documentation: https://pandas.pydata.org/pandas-docs/stable/user_guide/indexing.html#returning-a-view-versus-a-copy\n",
      "  self._setitem_single_column(loc, value, pi)\n",
      "C:\\Users\\rasmu\\Downloads\\AnacondaNew\\lib\\site-packages\\pandas\\core\\indexing.py:1720: SettingWithCopyWarning: \n",
      "A value is trying to be set on a copy of a slice from a DataFrame.\n",
      "Try using .loc[row_indexer,col_indexer] = value instead\n",
      "\n",
      "See the caveats in the documentation: https://pandas.pydata.org/pandas-docs/stable/user_guide/indexing.html#returning-a-view-versus-a-copy\n",
      "  self._setitem_single_column(loc, value, pi)\n",
      "C:\\Users\\rasmu\\Downloads\\AnacondaNew\\lib\\site-packages\\pandas\\core\\indexing.py:1720: SettingWithCopyWarning: \n",
      "A value is trying to be set on a copy of a slice from a DataFrame.\n",
      "Try using .loc[row_indexer,col_indexer] = value instead\n",
      "\n",
      "See the caveats in the documentation: https://pandas.pydata.org/pandas-docs/stable/user_guide/indexing.html#returning-a-view-versus-a-copy\n",
      "  self._setitem_single_column(loc, value, pi)\n",
      "C:\\Users\\rasmu\\Downloads\\AnacondaNew\\lib\\site-packages\\pandas\\core\\indexing.py:1720: SettingWithCopyWarning: \n",
      "A value is trying to be set on a copy of a slice from a DataFrame.\n",
      "Try using .loc[row_indexer,col_indexer] = value instead\n",
      "\n",
      "See the caveats in the documentation: https://pandas.pydata.org/pandas-docs/stable/user_guide/indexing.html#returning-a-view-versus-a-copy\n",
      "  self._setitem_single_column(loc, value, pi)\n",
      "C:\\Users\\rasmu\\Downloads\\AnacondaNew\\lib\\site-packages\\pandas\\core\\indexing.py:1720: SettingWithCopyWarning: \n",
      "A value is trying to be set on a copy of a slice from a DataFrame.\n",
      "Try using .loc[row_indexer,col_indexer] = value instead\n",
      "\n",
      "See the caveats in the documentation: https://pandas.pydata.org/pandas-docs/stable/user_guide/indexing.html#returning-a-view-versus-a-copy\n",
      "  self._setitem_single_column(loc, value, pi)\n",
      "C:\\Users\\rasmu\\Downloads\\AnacondaNew\\lib\\site-packages\\pandas\\core\\indexing.py:1720: SettingWithCopyWarning: \n",
      "A value is trying to be set on a copy of a slice from a DataFrame.\n",
      "Try using .loc[row_indexer,col_indexer] = value instead\n",
      "\n",
      "See the caveats in the documentation: https://pandas.pydata.org/pandas-docs/stable/user_guide/indexing.html#returning-a-view-versus-a-copy\n",
      "  self._setitem_single_column(loc, value, pi)\n",
      "C:\\Users\\rasmu\\Downloads\\AnacondaNew\\lib\\site-packages\\pandas\\core\\indexing.py:1720: SettingWithCopyWarning: \n",
      "A value is trying to be set on a copy of a slice from a DataFrame.\n",
      "Try using .loc[row_indexer,col_indexer] = value instead\n",
      "\n",
      "See the caveats in the documentation: https://pandas.pydata.org/pandas-docs/stable/user_guide/indexing.html#returning-a-view-versus-a-copy\n",
      "  self._setitem_single_column(loc, value, pi)\n",
      "C:\\Users\\rasmu\\Downloads\\AnacondaNew\\lib\\site-packages\\pandas\\core\\indexing.py:1720: SettingWithCopyWarning: \n",
      "A value is trying to be set on a copy of a slice from a DataFrame.\n",
      "Try using .loc[row_indexer,col_indexer] = value instead\n",
      "\n",
      "See the caveats in the documentation: https://pandas.pydata.org/pandas-docs/stable/user_guide/indexing.html#returning-a-view-versus-a-copy\n",
      "  self._setitem_single_column(loc, value, pi)\n",
      "C:\\Users\\rasmu\\Downloads\\AnacondaNew\\lib\\site-packages\\pandas\\core\\indexing.py:1720: SettingWithCopyWarning: \n",
      "A value is trying to be set on a copy of a slice from a DataFrame.\n",
      "Try using .loc[row_indexer,col_indexer] = value instead\n",
      "\n",
      "See the caveats in the documentation: https://pandas.pydata.org/pandas-docs/stable/user_guide/indexing.html#returning-a-view-versus-a-copy\n",
      "  self._setitem_single_column(loc, value, pi)\n",
      "C:\\Users\\rasmu\\Downloads\\AnacondaNew\\lib\\site-packages\\pandas\\core\\indexing.py:1720: SettingWithCopyWarning: \n",
      "A value is trying to be set on a copy of a slice from a DataFrame.\n",
      "Try using .loc[row_indexer,col_indexer] = value instead\n",
      "\n",
      "See the caveats in the documentation: https://pandas.pydata.org/pandas-docs/stable/user_guide/indexing.html#returning-a-view-versus-a-copy\n",
      "  self._setitem_single_column(loc, value, pi)\n",
      "C:\\Users\\rasmu\\Downloads\\AnacondaNew\\lib\\site-packages\\pandas\\core\\indexing.py:1720: SettingWithCopyWarning: \n",
      "A value is trying to be set on a copy of a slice from a DataFrame.\n",
      "Try using .loc[row_indexer,col_indexer] = value instead\n",
      "\n",
      "See the caveats in the documentation: https://pandas.pydata.org/pandas-docs/stable/user_guide/indexing.html#returning-a-view-versus-a-copy\n",
      "  self._setitem_single_column(loc, value, pi)\n",
      "C:\\Users\\rasmu\\Downloads\\AnacondaNew\\lib\\site-packages\\pandas\\core\\indexing.py:1720: SettingWithCopyWarning: \n",
      "A value is trying to be set on a copy of a slice from a DataFrame.\n",
      "Try using .loc[row_indexer,col_indexer] = value instead\n",
      "\n",
      "See the caveats in the documentation: https://pandas.pydata.org/pandas-docs/stable/user_guide/indexing.html#returning-a-view-versus-a-copy\n",
      "  self._setitem_single_column(loc, value, pi)\n",
      "C:\\Users\\rasmu\\Downloads\\AnacondaNew\\lib\\site-packages\\pandas\\core\\indexing.py:1720: SettingWithCopyWarning: \n",
      "A value is trying to be set on a copy of a slice from a DataFrame.\n",
      "Try using .loc[row_indexer,col_indexer] = value instead\n",
      "\n",
      "See the caveats in the documentation: https://pandas.pydata.org/pandas-docs/stable/user_guide/indexing.html#returning-a-view-versus-a-copy\n",
      "  self._setitem_single_column(loc, value, pi)\n",
      "C:\\Users\\rasmu\\Downloads\\AnacondaNew\\lib\\site-packages\\pandas\\core\\indexing.py:1720: SettingWithCopyWarning: \n",
      "A value is trying to be set on a copy of a slice from a DataFrame.\n",
      "Try using .loc[row_indexer,col_indexer] = value instead\n",
      "\n",
      "See the caveats in the documentation: https://pandas.pydata.org/pandas-docs/stable/user_guide/indexing.html#returning-a-view-versus-a-copy\n",
      "  self._setitem_single_column(loc, value, pi)\n",
      "C:\\Users\\rasmu\\Downloads\\AnacondaNew\\lib\\site-packages\\pandas\\core\\indexing.py:1720: SettingWithCopyWarning: \n",
      "A value is trying to be set on a copy of a slice from a DataFrame.\n",
      "Try using .loc[row_indexer,col_indexer] = value instead\n",
      "\n",
      "See the caveats in the documentation: https://pandas.pydata.org/pandas-docs/stable/user_guide/indexing.html#returning-a-view-versus-a-copy\n",
      "  self._setitem_single_column(loc, value, pi)\n",
      "C:\\Users\\rasmu\\Downloads\\AnacondaNew\\lib\\site-packages\\pandas\\core\\indexing.py:1720: SettingWithCopyWarning: \n",
      "A value is trying to be set on a copy of a slice from a DataFrame.\n",
      "Try using .loc[row_indexer,col_indexer] = value instead\n",
      "\n",
      "See the caveats in the documentation: https://pandas.pydata.org/pandas-docs/stable/user_guide/indexing.html#returning-a-view-versus-a-copy\n",
      "  self._setitem_single_column(loc, value, pi)\n",
      "C:\\Users\\rasmu\\Downloads\\AnacondaNew\\lib\\site-packages\\pandas\\core\\indexing.py:1720: SettingWithCopyWarning: \n",
      "A value is trying to be set on a copy of a slice from a DataFrame.\n",
      "Try using .loc[row_indexer,col_indexer] = value instead\n",
      "\n",
      "See the caveats in the documentation: https://pandas.pydata.org/pandas-docs/stable/user_guide/indexing.html#returning-a-view-versus-a-copy\n",
      "  self._setitem_single_column(loc, value, pi)\n",
      "C:\\Users\\rasmu\\Downloads\\AnacondaNew\\lib\\site-packages\\pandas\\core\\indexing.py:1720: SettingWithCopyWarning: \n",
      "A value is trying to be set on a copy of a slice from a DataFrame.\n",
      "Try using .loc[row_indexer,col_indexer] = value instead\n",
      "\n",
      "See the caveats in the documentation: https://pandas.pydata.org/pandas-docs/stable/user_guide/indexing.html#returning-a-view-versus-a-copy\n",
      "  self._setitem_single_column(loc, value, pi)\n"
     ]
    },
    {
     "name": "stderr",
     "output_type": "stream",
     "text": [
      "C:\\Users\\rasmu\\Downloads\\AnacondaNew\\lib\\site-packages\\pandas\\core\\indexing.py:1720: SettingWithCopyWarning: \n",
      "A value is trying to be set on a copy of a slice from a DataFrame.\n",
      "Try using .loc[row_indexer,col_indexer] = value instead\n",
      "\n",
      "See the caveats in the documentation: https://pandas.pydata.org/pandas-docs/stable/user_guide/indexing.html#returning-a-view-versus-a-copy\n",
      "  self._setitem_single_column(loc, value, pi)\n",
      "C:\\Users\\rasmu\\Downloads\\AnacondaNew\\lib\\site-packages\\pandas\\core\\indexing.py:1720: SettingWithCopyWarning: \n",
      "A value is trying to be set on a copy of a slice from a DataFrame.\n",
      "Try using .loc[row_indexer,col_indexer] = value instead\n",
      "\n",
      "See the caveats in the documentation: https://pandas.pydata.org/pandas-docs/stable/user_guide/indexing.html#returning-a-view-versus-a-copy\n",
      "  self._setitem_single_column(loc, value, pi)\n"
     ]
    }
   ],
   "source": [
    "# Creating new column for department names using loc function\n",
    "\n",
    "df_final.loc[df_final['department_id'] == 1, 'department'] = 'frozen'\n",
    "df_final.loc[df_final['department_id'] == 2, 'department'] = 'other'\n",
    "df_final.loc[df_final['department_id'] == 3, 'department'] = 'bakery'\n",
    "df_final.loc[df_final['department_id'] == 4, 'department'] = 'produce'\n",
    "df_final.loc[df_final['department_id'] == 5, 'department'] = 'alcohol'\n",
    "df_final.loc[df_final['department_id'] == 6, 'department'] = 'international'\n",
    "df_final.loc[df_final['department_id'] == 7, 'department'] = 'beverages'\n",
    "df_final.loc[df_final['department_id'] == 8, 'department'] = 'pets'\n",
    "df_final.loc[df_final['department_id'] == 9, 'department'] = 'dry goods pasta'\n",
    "df_final.loc[df_final['department_id'] == 10, 'department'] = 'bulk'\n",
    "df_final.loc[df_final['department_id'] == 11, 'department'] = 'personal care'\n",
    "df_final.loc[df_final['department_id'] == 12, 'department'] = 'meat seafood'\n",
    "df_final.loc[df_final['department_id'] == 13, 'department'] = 'pantry'\n",
    "df_final.loc[df_final['department_id'] == 14, 'department'] = 'breakfast'\n",
    "df_final.loc[df_final['department_id'] == 15, 'department'] = 'canned goods'\n",
    "df_final.loc[df_final['department_id'] == 16, 'department'] = 'dairy eggs'\n",
    "df_final.loc[df_final['department_id'] == 17, 'department'] = 'households'\n",
    "df_final.loc[df_final['department_id'] == 18, 'department'] = 'babies'\n",
    "df_final.loc[df_final['department_id'] == 19, 'department'] = 'snacks'\n",
    "df_final.loc[df_final['department_id'] == 20, 'department'] = 'deli'\n",
    "df_final.loc[df_final['department_id'] == 21, 'department'] = 'missing'"
   ]
  },
  {
   "cell_type": "code",
   "execution_count": 62,
   "id": "c698c31d",
   "metadata": {},
   "outputs": [
    {
     "data": {
      "text/plain": [
       "produce            9288860\n",
       "dairy eggs         5292745\n",
       "snacks             2829767\n",
       "beverages          2633114\n",
       "frozen             2180787\n",
       "pantry             1831123\n",
       "bakery             1147983\n",
       "canned goods       1041171\n",
       "deli               1028707\n",
       "dry goods pasta     845368\n",
       "households          720087\n",
       "meat seafood        692678\n",
       "breakfast           687659\n",
       "personal care       436395\n",
       "babies              417536\n",
       "international       262920\n",
       "alcohol             149309\n",
       "pets                 95470\n",
       "missing              67034\n",
       "other                35403\n",
       "bulk                 34011\n",
       "Name: department, dtype: int64"
      ]
     },
     "execution_count": 62,
     "metadata": {},
     "output_type": "execute_result"
    }
   ],
   "source": [
    "# Checking the new department column \n",
    "\n",
    "df_final['department'].value_counts()"
   ]
  },
  {
   "cell_type": "markdown",
   "id": "3d96c372",
   "metadata": {},
   "source": [
    "### 6.7 Addressing Missing Data from a Previous Process - Price Ranges"
   ]
  },
  {
   "cell_type": "code",
   "execution_count": 63,
   "id": "787b0cba",
   "metadata": {},
   "outputs": [
    {
     "name": "stderr",
     "output_type": "stream",
     "text": [
      "C:\\Users\\rasmu\\Downloads\\AnacondaNew\\lib\\site-packages\\pandas\\core\\indexing.py:1599: SettingWithCopyWarning: \n",
      "A value is trying to be set on a copy of a slice from a DataFrame.\n",
      "Try using .loc[row_indexer,col_indexer] = value instead\n",
      "\n",
      "See the caveats in the documentation: https://pandas.pydata.org/pandas-docs/stable/user_guide/indexing.html#returning-a-view-versus-a-copy\n",
      "  self.obj[key] = infer_fill_value(value)\n",
      "C:\\Users\\rasmu\\Downloads\\AnacondaNew\\lib\\site-packages\\pandas\\core\\indexing.py:1720: SettingWithCopyWarning: \n",
      "A value is trying to be set on a copy of a slice from a DataFrame.\n",
      "Try using .loc[row_indexer,col_indexer] = value instead\n",
      "\n",
      "See the caveats in the documentation: https://pandas.pydata.org/pandas-docs/stable/user_guide/indexing.html#returning-a-view-versus-a-copy\n",
      "  self._setitem_single_column(loc, value, pi)\n",
      "C:\\Users\\rasmu\\Downloads\\AnacondaNew\\lib\\site-packages\\pandas\\core\\indexing.py:1720: SettingWithCopyWarning: \n",
      "A value is trying to be set on a copy of a slice from a DataFrame.\n",
      "Try using .loc[row_indexer,col_indexer] = value instead\n",
      "\n",
      "See the caveats in the documentation: https://pandas.pydata.org/pandas-docs/stable/user_guide/indexing.html#returning-a-view-versus-a-copy\n",
      "  self._setitem_single_column(loc, value, pi)\n",
      "C:\\Users\\rasmu\\Downloads\\AnacondaNew\\lib\\site-packages\\pandas\\core\\indexing.py:1720: SettingWithCopyWarning: \n",
      "A value is trying to be set on a copy of a slice from a DataFrame.\n",
      "Try using .loc[row_indexer,col_indexer] = value instead\n",
      "\n",
      "See the caveats in the documentation: https://pandas.pydata.org/pandas-docs/stable/user_guide/indexing.html#returning-a-view-versus-a-copy\n",
      "  self._setitem_single_column(loc, value, pi)\n"
     ]
    }
   ],
   "source": [
    "# Copying from 4.7 with df name update\n",
    "\n",
    "# Creating price range flags with loc() function\n",
    "\n",
    "df_final.loc[df_final['prices'] > 15, 'price_range_loc'] = 'High-range product'\n",
    "df_final.loc[(df_final['prices'] <= 15) & (df_final['prices'] > 5), 'price_range_loc'] = 'Mid-range product' \n",
    "df_final.loc[df_final['prices'] <= 5, 'price_range_loc'] = 'Low-range product'"
   ]
  },
  {
   "cell_type": "code",
   "execution_count": 64,
   "id": "37726a44",
   "metadata": {},
   "outputs": [
    {
     "data": {
      "text/plain": [
       "Mid-range product     21399096\n",
       "Low-range product      9910695\n",
       "High-range product      408336\n",
       "NaN                     211852\n",
       "Name: price_range_loc, dtype: int64"
      ]
     },
     "execution_count": 64,
     "metadata": {},
     "output_type": "execute_result"
    }
   ],
   "source": [
    "df_final['price_range_loc'].value_counts(dropna = False)"
   ]
  },
  {
   "cell_type": "code",
   "execution_count": 65,
   "id": "e3976436",
   "metadata": {},
   "outputs": [],
   "source": [
    "# After seeing NaN in the price_range, need to remove those values.\n",
    "\n",
    "# Create a subset with NaN values to exclude\n",
    "\n",
    "df_price_nan = df_final[df_final['price_range_loc'] == 'NaN']"
   ]
  },
  {
   "cell_type": "code",
   "execution_count": 66,
   "id": "c111fc9d",
   "metadata": {},
   "outputs": [
    {
     "data": {
      "text/plain": [
       "Series([], Name: price_range_loc, dtype: int64)"
      ]
     },
     "execution_count": 66,
     "metadata": {},
     "output_type": "execute_result"
    }
   ],
   "source": [
    "# Checking whether all values in price_nan are NaN in this subset \n",
    "\n",
    "df_price_nan['price_range_loc'].value_counts()"
   ]
  },
  {
   "cell_type": "code",
   "execution_count": 67,
   "id": "131c9c6d",
   "metadata": {},
   "outputs": [],
   "source": [
    "# Exporting the sample\n",
    "\n",
    "df_price_nan.to_csv(os.path.join(path, 'Prepd Data', 'low_activity.csv'))"
   ]
  },
  {
   "cell_type": "code",
   "execution_count": 68,
   "id": "9ce75e17",
   "metadata": {},
   "outputs": [],
   "source": [
    "# Updating df without the NaN prices\n",
    "\n",
    "df_final = df_final.dropna()"
   ]
  },
  {
   "cell_type": "code",
   "execution_count": 69,
   "id": "185bb4e3",
   "metadata": {},
   "outputs": [
    {
     "data": {
      "text/plain": [
       "(29869498, 38)"
      ]
     },
     "execution_count": 69,
     "metadata": {},
     "output_type": "execute_result"
    }
   ],
   "source": [
    "df_final.shape"
   ]
  },
  {
   "cell_type": "code",
   "execution_count": 70,
   "id": "de5a5299",
   "metadata": {},
   "outputs": [
    {
     "data": {
      "text/plain": [
       "Mid-range product     20153364\n",
       "Low-range product      9332538\n",
       "High-range product      383596\n",
       "Name: price_range_loc, dtype: int64"
      ]
     },
     "execution_count": 70,
     "metadata": {},
     "output_type": "execute_result"
    }
   ],
   "source": [
    "df_final['price_range_loc'].value_counts(dropna = False)"
   ]
  },
  {
   "cell_type": "markdown",
   "id": "c6e052c3",
   "metadata": {},
   "source": [
    "# 07. Visualizations"
   ]
  },
  {
   "cell_type": "markdown",
   "id": "b5d4018f",
   "metadata": {},
   "source": [
    "### Q6 - Create an appropriate visualization to show the distribution of profiles."
   ]
  },
  {
   "cell_type": "markdown",
   "id": "fb61be7a",
   "metadata": {},
   "source": [
    "### 7.1 Generations of Customers"
   ]
  },
  {
   "cell_type": "code",
   "execution_count": 71,
   "id": "1111a102",
   "metadata": {},
   "outputs": [
    {
     "data": {
      "image/png": "[encoded data removed]",
      "text/plain": [
       "<Figure size 432x288 with 1 Axes>"
      ]
     },
     "metadata": {
      "needs_background": "light"
     },
     "output_type": "display_data"
    }
   ],
   "source": [
    "# Creating a bar chart\n",
    "\n",
    "bar_generation = df_final['Generation'].value_counts().plot.bar(color = sns.color_palette('rocket_r', 5))"
   ]
  },
  {
   "cell_type": "code",
   "execution_count": 72,
   "id": "6898dd50",
   "metadata": {},
   "outputs": [],
   "source": [
    "# Creating a new path to download visualizations\n",
    "\n",
    "path = r'C:\\Users\\rasmu\\Documents\\CareerFoundry\\A4 Instacart Basket Analysis'"
   ]
  },
  {
   "cell_type": "code",
   "execution_count": 73,
   "id": "0398d662",
   "metadata": {},
   "outputs": [],
   "source": [
    "# Exporting visualization\n",
    "\n",
    "bar_generation.figure.savefig(os.path.join(path, '04 Analysis','Viz', 'bar_generation.png'))"
   ]
  },
  {
   "cell_type": "markdown",
   "id": "c549f81c",
   "metadata": {},
   "source": [
    "### 7.2 Income Ranges"
   ]
  },
  {
   "cell_type": "code",
   "execution_count": 74,
   "id": "0fd48680",
   "metadata": {},
   "outputs": [
    {
     "data": {
      "image/png": "[encoded data removed]",
      "text/plain": [
       "<Figure size 432x288 with 1 Axes>"
      ]
     },
     "metadata": {
      "needs_background": "light"
     },
     "output_type": "display_data"
    }
   ],
   "source": [
    "# Creating a bar chart that represents total orders across categories \n",
    "\n",
    "bar_income_orders = df_final['income_range'].value_counts().sort_index().plot.bar(color = sns.color_palette('Greens_r', 8))\n",
    "plt.xticks(rotation= 20, horizontalalignment=\"center\")\n",
    "plt.tight_layout()"
   ]
  },
  {
   "cell_type": "code",
   "execution_count": 75,
   "id": "c45dde6a",
   "metadata": {},
   "outputs": [],
   "source": [
    "# Export visualization \n",
    "\n",
    "bar_income_orders.figure.savefig(os.path.join(path, '04 Analysis','Viz', 'bar_income_orders.png'))"
   ]
  },
  {
   "cell_type": "markdown",
   "id": "9f330d0d",
   "metadata": {},
   "source": [
    "### 7.3 Parental Status"
   ]
  },
  {
   "cell_type": "code",
   "execution_count": 76,
   "id": "0a8d4497",
   "metadata": {},
   "outputs": [
    {
     "data": {
      "text/plain": [
       "(array([0, 1]), [Text(0, 0, 'parent'), Text(1, 0, 'not parent')])"
      ]
     },
     "execution_count": 76,
     "metadata": {},
     "output_type": "execute_result"
    },
    {
     "data": {
      "image/png": "[encoded data removed]",
      "text/plain": [
       "<Figure size 432x288 with 1 Axes>"
      ]
     },
     "metadata": {
      "needs_background": "light"
     },
     "output_type": "display_data"
    }
   ],
   "source": [
    "# Creating a bar chart for total orders by parental status \n",
    "\n",
    "bar_parental_status = df_final['parental_status'].value_counts().plot.bar(color = sns.color_palette('PuOr',2))\n",
    "plt.xticks(rotation= 20, horizontalalignment=\"center\")"
   ]
  },
  {
   "cell_type": "code",
   "execution_count": 77,
   "id": "e21ba6a0",
   "metadata": {},
   "outputs": [
    {
     "data": {
      "text/plain": [
       "Text(0, 0.5, '')"
      ]
     },
     "execution_count": 77,
     "metadata": {},
     "output_type": "execute_result"
    },
    {
     "data": {
      "image/png": "[encoded data removed]",
      "text/plain": [
       "<Figure size 432x288 with 1 Axes>"
      ]
     },
     "metadata": {},
     "output_type": "display_data"
    }
   ],
   "source": [
    "# Creating a pie chart of distribution of customers in terms of parental status (Googled how to get rid of the label on the left)\n",
    "\n",
    "pie_parental_status = df_final['parental_status'].value_counts().plot.pie(autopct='%1.1f%%', colors = sns.color_palette('PuOr',2))\n",
    "plt.ylabel('')"
   ]
  },
  {
   "cell_type": "markdown",
   "id": "97b54005",
   "metadata": {},
   "source": [
    "### 7.4 Family Status"
   ]
  },
  {
   "cell_type": "code",
   "execution_count": 78,
   "id": "2c04b472",
   "metadata": {},
   "outputs": [
    {
     "data": {
      "text/plain": [
       "(array([0, 1, 2, 3]),\n",
       " [Text(0, 0, 'divorced/widowed'),\n",
       "  Text(1, 0, 'living with parents and siblings'),\n",
       "  Text(2, 0, 'married'),\n",
       "  Text(3, 0, 'single')])"
      ]
     },
     "execution_count": 78,
     "metadata": {},
     "output_type": "execute_result"
    },
    {
     "data": {
      "image/png": "[encoded data removed]",
      "text/plain": [
       "<Figure size 432x288 with 1 Axes>"
      ]
     },
     "metadata": {
      "needs_background": "light"
     },
     "output_type": "display_data"
    }
   ],
   "source": [
    "# Creating a bar chart of total orders by family status \n",
    "\n",
    "bar_family = df_final['Marital_status'].value_counts().sort_index().plot.bar(color = sns.color_palette('coolwarm', 4))\n",
    "plt.xticks(rotation= 20, horizontalalignment=\"center\")"
   ]
  },
  {
   "cell_type": "code",
   "execution_count": 79,
   "id": "e13deed6",
   "metadata": {},
   "outputs": [
    {
     "data": {
      "text/plain": [
       "Text(0, 0.5, '')"
      ]
     },
     "execution_count": 79,
     "metadata": {},
     "output_type": "execute_result"
    },
    {
     "data": {
      "image/png": "[encoded data removed]",
      "text/plain": [
       "<Figure size 432x288 with 1 Axes>"
      ]
     },
     "metadata": {},
     "output_type": "display_data"
    }
   ],
   "source": [
    "# Creating a pie chart to show distribution of customers in terms of family status \n",
    "\n",
    "pie_family = df_final['Marital_status'].value_counts().sort_index().plot.pie(autopct='%1.1f%%', colors = sns.color_palette('coolwarm', 4))\n",
    "plt.ylabel('')"
   ]
  },
  {
   "cell_type": "code",
   "execution_count": 80,
   "id": "24c4abbd",
   "metadata": {},
   "outputs": [],
   "source": [
    "# Export Visualizations\n",
    "\n",
    "bar_family.figure.savefig(os.path.join(path, '04 Analysis','Viz', 'bar_family.png'))"
   ]
  },
  {
   "cell_type": "code",
   "execution_count": 81,
   "id": "653eda4d",
   "metadata": {},
   "outputs": [],
   "source": [
    "pie_family.figure.savefig(os.path.join(path, '04 Analysis','Viz', 'pie_family.png'))"
   ]
  },
  {
   "cell_type": "markdown",
   "id": "e4179f27",
   "metadata": {},
   "source": [
    "### 7.5 Customer Brand Loyalty"
   ]
  },
  {
   "cell_type": "code",
   "execution_count": 82,
   "id": "13d873ac",
   "metadata": {},
   "outputs": [
    {
     "data": {
      "text/plain": [
       "Text(0, 0.5, '')"
      ]
     },
     "execution_count": 82,
     "metadata": {},
     "output_type": "execute_result"
    },
    {
     "data": {
      "image/png": "[encoded data removed]",
      "text/plain": [
       "<Figure size 432x288 with 1 Axes>"
      ]
     },
     "metadata": {},
     "output_type": "display_data"
    }
   ],
   "source": [
    "# Distribution among customers in regards to brand loyalty \n",
    "\n",
    "pie_loyalty = df_final['loyalty_flag'].value_counts().sort_index().plot.pie(autopct='%1.1f%%', colors = sns.color_palette('jet_r',3))\n",
    "plt.ylabel('')"
   ]
  },
  {
   "cell_type": "code",
   "execution_count": 83,
   "id": "aafab66c",
   "metadata": {},
   "outputs": [],
   "source": [
    "# Is there a difference in ordering habits by brand loyalty?\n",
    "\n",
    "# Creating a crosstab"
   ]
  },
  {
   "cell_type": "code",
   "execution_count": 84,
   "id": "b799ac23",
   "metadata": {},
   "outputs": [],
   "source": [
    "crosstab_loyalty_price = pd.crosstab(df_final['loyalty_flag'], df_final['price_range_loc'], dropna = False)"
   ]
  },
  {
   "cell_type": "code",
   "execution_count": 85,
   "id": "a910bdc7",
   "metadata": {},
   "outputs": [
    {
     "data": {
      "text/plain": [
       "(array([0, 1, 2]),\n",
       " [Text(0, 0, 'Loyal customer'),\n",
       "  Text(1, 0, 'New customer'),\n",
       "  Text(2, 0, 'Regular customer')])"
      ]
     },
     "execution_count": 85,
     "metadata": {},
     "output_type": "execute_result"
    },
    {
     "data": {
      "image/png": "[encoded data removed]",
      "text/plain": [
       "<Figure size 432x288 with 1 Axes>"
      ]
     },
     "metadata": {
      "needs_background": "light"
     },
     "output_type": "display_data"
    }
   ],
   "source": [
    "# Creating a stacked bar chart  \n",
    "\n",
    "bar_loyalty_price = crosstab_loyalty_price.plot(kind = 'bar', stacked = True, color = sns.color_palette('jet_r', 3))\n",
    "plt.xticks(rotation= 20, horizontalalignment=\"center\")"
   ]
  },
  {
   "cell_type": "code",
   "execution_count": 86,
   "id": "553f4965",
   "metadata": {},
   "outputs": [
    {
     "data": {
      "text/plain": [
       "(array([0, 1, 2]),\n",
       " [Text(0, 0, 'Loyal customer'),\n",
       "  Text(1, 0, 'New customer'),\n",
       "  Text(2, 0, 'Regular customer')])"
      ]
     },
     "execution_count": 86,
     "metadata": {},
     "output_type": "execute_result"
    },
    {
     "data": {
      "image/png": "[encoded data removed]",
      "text/plain": [
       "<Figure size 432x288 with 1 Axes>"
      ]
     },
     "metadata": {
      "needs_background": "light"
     },
     "output_type": "display_data"
    }
   ],
   "source": [
    "# Trying a 100% stacked bar chart to show better for price ranges\n",
    "\n",
    "bar_loyalty_price_100 = crosstab_loyalty_price.apply(lambda r: r/r.sum()*100, axis=1).plot(kind = 'bar', stacked = True, color = sns.color_palette('jet_r', 3))\n",
    "plt.xticks(rotation= 20, horizontalalignment=\"center\")"
   ]
  },
  {
   "cell_type": "code",
   "execution_count": 87,
   "id": "1dbc5820",
   "metadata": {},
   "outputs": [],
   "source": [
    "# Exporting visualizations\n",
    "\n",
    "pie_loyalty.figure.savefig(os.path.join(path, '04 Analysis','Viz', 'pie_loyalty.png'))"
   ]
  },
  {
   "cell_type": "code",
   "execution_count": 88,
   "id": "98be4a15",
   "metadata": {},
   "outputs": [],
   "source": [
    "bar_loyalty_price.figure.savefig(os.path.join(path, '04 Analysis','Viz', 'bar_loyalty_price.png'))"
   ]
  },
  {
   "cell_type": "code",
   "execution_count": 89,
   "id": "bec95122",
   "metadata": {},
   "outputs": [],
   "source": [
    "bar_loyalty_price_100.figure.savefig(os.path.join(path, '04 Analysis','Viz', 'bar_loyalty_price_100.png'))"
   ]
  },
  {
   "cell_type": "markdown",
   "id": "3eed9a08",
   "metadata": {},
   "source": [
    "### 7.6 Price-Range"
   ]
  },
  {
   "cell_type": "code",
   "execution_count": 90,
   "id": "b76ea1bd",
   "metadata": {},
   "outputs": [],
   "source": [
    "# Is there certain product ranges that are more popular by income ranges? \n",
    "\n",
    "# Creating a crosstab\n",
    "\n",
    "crosstab_product_income = pd.crosstab(df_final['income_range'], df_final['price_range_loc'], dropna = False)"
   ]
  },
  {
   "cell_type": "code",
   "execution_count": 91,
   "id": "2b9fb3b6",
   "metadata": {},
   "outputs": [
    {
     "data": {
      "text/plain": [
       "(array([0, 1, 2, 3, 4, 5]),\n",
       " [Text(0, 0, '0 - 50k'),\n",
       "  Text(1, 0, '050-100k'),\n",
       "  Text(2, 0, '100-150k'),\n",
       "  Text(3, 0, '150-200k'),\n",
       "  Text(4, 0, '200-300k'),\n",
       "  Text(5, 0, 'Over 300k')])"
      ]
     },
     "execution_count": 91,
     "metadata": {},
     "output_type": "execute_result"
    },
    {
     "data": {
      "image/png": "[encoded data removed]",
      "text/plain": [
       "<Figure size 432x288 with 1 Axes>"
      ]
     },
     "metadata": {
      "needs_background": "light"
     },
     "output_type": "display_data"
    }
   ],
   "source": [
    "# Creating a stacked bar chart  \n",
    "\n",
    "bar_product_income = crosstab_product_income.plot(kind = 'bar', stacked = True, color = sns.color_palette('flare_r', 3))\n",
    "plt.xticks(rotation= 20, horizontalalignment=\"center\")"
   ]
  },
  {
   "cell_type": "code",
   "execution_count": 92,
   "id": "1b9db410",
   "metadata": {},
   "outputs": [
    {
     "data": {
      "text/plain": [
       "(array([0, 1, 2, 3, 4, 5]),\n",
       " [Text(0, 0, '0 - 50k'),\n",
       "  Text(1, 0, '050-100k'),\n",
       "  Text(2, 0, '100-150k'),\n",
       "  Text(3, 0, '150-200k'),\n",
       "  Text(4, 0, '200-300k'),\n",
       "  Text(5, 0, 'Over 300k')])"
      ]
     },
     "execution_count": 92,
     "metadata": {},
     "output_type": "execute_result"
    },
    {
     "data": {
      "image/png": "[encoded data removed]",
      "text/plain": [
       "<Figure size 432x288 with 1 Axes>"
      ]
     },
     "metadata": {
      "needs_background": "light"
     },
     "output_type": "display_data"
    }
   ],
   "source": [
    "# Trying a 100% stacked bar chart to show better for income ranges\n",
    "\n",
    "bar_product_income_100 = crosstab_product_income.apply(lambda r: r/r.sum()*100, axis=1).plot(kind = 'bar', stacked = True, color = sns.color_palette('flare_r', 3))\n",
    "plt.xticks(rotation= 20, horizontalalignment=\"center\")"
   ]
  },
  {
   "cell_type": "code",
   "execution_count": 93,
   "id": "61a2a57d",
   "metadata": {},
   "outputs": [
    {
     "data": {
      "text/plain": [
       "Text(0, 0.5, '')"
      ]
     },
     "execution_count": 93,
     "metadata": {},
     "output_type": "execute_result"
    },
    {
     "data": {
      "image/png": "[encoded data removed]",
      "text/plain": [
       "<Figure size 432x288 with 1 Axes>"
      ]
     },
     "metadata": {},
     "output_type": "display_data"
    }
   ],
   "source": [
    "# Pie chart for price range groupings\n",
    "\n",
    "pie_price_range = df_final['price_range_loc'].value_counts().sort_index().plot.pie(autopct='%1.1f%%', colors = sns.color_palette('flare_r', 3))\n",
    "plt.ylabel('')"
   ]
  },
  {
   "cell_type": "code",
   "execution_count": 94,
   "id": "12b676aa",
   "metadata": {},
   "outputs": [],
   "source": [
    "# Exporting Visualizations\n",
    "\n",
    "bar_product_income.figure.savefig(os.path.join(path, '04 Analysis','Viz', 'bar_product_income.png'))"
   ]
  },
  {
   "cell_type": "code",
   "execution_count": 95,
   "id": "772febb9",
   "metadata": {},
   "outputs": [],
   "source": [
    "bar_product_income_100.figure.savefig(os.path.join(path, '04 Analysis','Viz', 'bar_product_income_100.png'))"
   ]
  },
  {
   "cell_type": "code",
   "execution_count": 96,
   "id": "69a76bb0",
   "metadata": {},
   "outputs": [],
   "source": [
    "pie_price_range.figure.savefig(os.path.join(path, '04 Analysis','Viz', 'pie_price_range.png'))"
   ]
  },
  {
   "cell_type": "markdown",
   "id": "d1aa203c",
   "metadata": {},
   "source": [
    "# 08. Aggregating Variables on a Customer-Profile Level"
   ]
  },
  {
   "cell_type": "markdown",
   "id": "7d6ab88b",
   "metadata": {},
   "source": [
    "### Q7- Aggregate the max, mean, and min variables on a customer-profile level for usage frequency and expenditure."
   ]
  },
  {
   "cell_type": "code",
   "execution_count": 97,
   "id": "eed780be",
   "metadata": {},
   "outputs": [
    {
     "data": {
      "text/plain": [
       "Index(['order_id', 'user_id', 'order_number', 'orders_day_of_week',\n",
       "       'order_hour_of_day', 'days_since_prior_order', 'first_order',\n",
       "       'product_id', 'add_to_cart_order', 'reordered', 'product_name',\n",
       "       'aisle_id', 'department_id', 'prices', 'busiest_day', 'busiest_days',\n",
       "       'busiest_period_of_day', 'max_order', 'loyalty_flag', 'avg_price',\n",
       "       'spending_flag', 'order_frequency', 'frequency_flag', 'Gender', 'State',\n",
       "       'Age', 'date_joined', 'Dependants', 'Marital_status', 'income',\n",
       "       'Region', 'exclusion_flag', 'Generation', 'income_range',\n",
       "       'parental_status', 'day', 'department', 'price_range_loc'],\n",
       "      dtype='object')"
      ]
     },
     "execution_count": 97,
     "metadata": {},
     "output_type": "execute_result"
    }
   ],
   "source": [
    "# Refresh on categories \n",
    "\n",
    "df_final.columns"
   ]
  },
  {
   "cell_type": "markdown",
   "id": "893d244d",
   "metadata": {},
   "source": [
    "### 8.1 Generations"
   ]
  },
  {
   "cell_type": "code",
   "execution_count": 98,
   "id": "1547d050",
   "metadata": {},
   "outputs": [],
   "source": [
    "# Expenditure by generations\n",
    "\n",
    "expenditure_generations = df_final.groupby('Generation').agg({'prices': ['mean', 'min', 'max']})"
   ]
  },
  {
   "cell_type": "code",
   "execution_count": 99,
   "id": "e9c512d5",
   "metadata": {},
   "outputs": [
    {
     "data": {
      "text/html": [
       "<div>\n",
       "<style scoped>\n",
       "    .dataframe tbody tr th:only-of-type {\n",
       "        vertical-align: middle;\n",
       "    }\n",
       "\n",
       "    .dataframe tbody tr th {\n",
       "        vertical-align: top;\n",
       "    }\n",
       "\n",
       "    .dataframe thead tr th {\n",
       "        text-align: left;\n",
       "    }\n",
       "\n",
       "    .dataframe thead tr:last-of-type th {\n",
       "        text-align: right;\n",
       "    }\n",
       "</style>\n",
       "<table border=\"1\" class=\"dataframe\">\n",
       "  <thead>\n",
       "    <tr>\n",
       "      <th></th>\n",
       "      <th colspan=\"3\" halign=\"left\">prices</th>\n",
       "    </tr>\n",
       "    <tr>\n",
       "      <th></th>\n",
       "      <th>mean</th>\n",
       "      <th>min</th>\n",
       "      <th>max</th>\n",
       "    </tr>\n",
       "    <tr>\n",
       "      <th>Generation</th>\n",
       "      <th></th>\n",
       "      <th></th>\n",
       "      <th></th>\n",
       "    </tr>\n",
       "  </thead>\n",
       "  <tbody>\n",
       "    <tr>\n",
       "      <th>Boomers</th>\n",
       "      <td>11.922747</td>\n",
       "      <td>1.0</td>\n",
       "      <td>99999.0</td>\n",
       "    </tr>\n",
       "    <tr>\n",
       "      <th>Gen_X</th>\n",
       "      <td>11.795639</td>\n",
       "      <td>1.0</td>\n",
       "      <td>99999.0</td>\n",
       "    </tr>\n",
       "    <tr>\n",
       "      <th>Gen_Z</th>\n",
       "      <td>12.469719</td>\n",
       "      <td>1.0</td>\n",
       "      <td>99999.0</td>\n",
       "    </tr>\n",
       "    <tr>\n",
       "      <th>Millennials</th>\n",
       "      <td>11.906481</td>\n",
       "      <td>1.0</td>\n",
       "      <td>99999.0</td>\n",
       "    </tr>\n",
       "    <tr>\n",
       "      <th>Silent_Gen</th>\n",
       "      <td>12.110178</td>\n",
       "      <td>1.0</td>\n",
       "      <td>99999.0</td>\n",
       "    </tr>\n",
       "  </tbody>\n",
       "</table>\n",
       "</div>"
      ],
      "text/plain": [
       "                prices              \n",
       "                  mean  min      max\n",
       "Generation                          \n",
       "Boomers      11.922747  1.0  99999.0\n",
       "Gen_X        11.795639  1.0  99999.0\n",
       "Gen_Z        12.469719  1.0  99999.0\n",
       "Millennials  11.906481  1.0  99999.0\n",
       "Silent_Gen   12.110178  1.0  99999.0"
      ]
     },
     "execution_count": 99,
     "metadata": {},
     "output_type": "execute_result"
    }
   ],
   "source": [
    "expenditure_generations"
   ]
  },
  {
   "cell_type": "code",
   "execution_count": 105,
   "id": "15c9073d",
   "metadata": {},
   "outputs": [],
   "source": [
    "expenditure_generations.to_clipboard()"
   ]
  },
  {
   "cell_type": "code",
   "execution_count": 106,
   "id": "c5b8b045",
   "metadata": {},
   "outputs": [],
   "source": [
    "# Usage frequency by generation \n",
    "\n",
    "usage_frequency_gen = df_final.groupby('Generation').agg({'days_since_prior_order': ['mean', 'min', 'max']})"
   ]
  },
  {
   "cell_type": "code",
   "execution_count": 107,
   "id": "770d65d9",
   "metadata": {},
   "outputs": [
    {
     "data": {
      "text/html": [
       "<div>\n",
       "<style scoped>\n",
       "    .dataframe tbody tr th:only-of-type {\n",
       "        vertical-align: middle;\n",
       "    }\n",
       "\n",
       "    .dataframe tbody tr th {\n",
       "        vertical-align: top;\n",
       "    }\n",
       "\n",
       "    .dataframe thead tr th {\n",
       "        text-align: left;\n",
       "    }\n",
       "\n",
       "    .dataframe thead tr:last-of-type th {\n",
       "        text-align: right;\n",
       "    }\n",
       "</style>\n",
       "<table border=\"1\" class=\"dataframe\">\n",
       "  <thead>\n",
       "    <tr>\n",
       "      <th></th>\n",
       "      <th colspan=\"3\" halign=\"left\">days_since_prior_order</th>\n",
       "    </tr>\n",
       "    <tr>\n",
       "      <th></th>\n",
       "      <th>mean</th>\n",
       "      <th>min</th>\n",
       "      <th>max</th>\n",
       "    </tr>\n",
       "    <tr>\n",
       "      <th>Generation</th>\n",
       "      <th></th>\n",
       "      <th></th>\n",
       "      <th></th>\n",
       "    </tr>\n",
       "  </thead>\n",
       "  <tbody>\n",
       "    <tr>\n",
       "      <th>Boomers</th>\n",
       "      <td>10.953125</td>\n",
       "      <td>0.0</td>\n",
       "      <td>30.0</td>\n",
       "    </tr>\n",
       "    <tr>\n",
       "      <th>Gen_X</th>\n",
       "      <td>10.976562</td>\n",
       "      <td>0.0</td>\n",
       "      <td>30.0</td>\n",
       "    </tr>\n",
       "    <tr>\n",
       "      <th>Gen_Z</th>\n",
       "      <td>10.921875</td>\n",
       "      <td>0.0</td>\n",
       "      <td>30.0</td>\n",
       "    </tr>\n",
       "    <tr>\n",
       "      <th>Millennials</th>\n",
       "      <td>11.000000</td>\n",
       "      <td>0.0</td>\n",
       "      <td>30.0</td>\n",
       "    </tr>\n",
       "    <tr>\n",
       "      <th>Silent_Gen</th>\n",
       "      <td>10.984375</td>\n",
       "      <td>0.0</td>\n",
       "      <td>30.0</td>\n",
       "    </tr>\n",
       "  </tbody>\n",
       "</table>\n",
       "</div>"
      ],
      "text/plain": [
       "            days_since_prior_order           \n",
       "                              mean  min   max\n",
       "Generation                                   \n",
       "Boomers                  10.953125  0.0  30.0\n",
       "Gen_X                    10.976562  0.0  30.0\n",
       "Gen_Z                    10.921875  0.0  30.0\n",
       "Millennials              11.000000  0.0  30.0\n",
       "Silent_Gen               10.984375  0.0  30.0"
      ]
     },
     "execution_count": 107,
     "metadata": {},
     "output_type": "execute_result"
    }
   ],
   "source": [
    "usage_frequency_gen"
   ]
  },
  {
   "cell_type": "code",
   "execution_count": 108,
   "id": "f3781e06",
   "metadata": {},
   "outputs": [],
   "source": [
    "usage_frequency_gen.to_clipboard()"
   ]
  },
  {
   "cell_type": "markdown",
   "id": "776d3d17",
   "metadata": {},
   "source": [
    "### 8.2 Income Ranges"
   ]
  },
  {
   "cell_type": "code",
   "execution_count": 109,
   "id": "9b65c281",
   "metadata": {},
   "outputs": [],
   "source": [
    "# Expenditure by income income categories \n",
    "\n",
    "expenditure_income = df_final.groupby('income_range').agg({'prices': ['mean', 'min', 'max']})"
   ]
  },
  {
   "cell_type": "code",
   "execution_count": 110,
   "id": "fde9881f",
   "metadata": {},
   "outputs": [
    {
     "data": {
      "text/html": [
       "<div>\n",
       "<style scoped>\n",
       "    .dataframe tbody tr th:only-of-type {\n",
       "        vertical-align: middle;\n",
       "    }\n",
       "\n",
       "    .dataframe tbody tr th {\n",
       "        vertical-align: top;\n",
       "    }\n",
       "\n",
       "    .dataframe thead tr th {\n",
       "        text-align: left;\n",
       "    }\n",
       "\n",
       "    .dataframe thead tr:last-of-type th {\n",
       "        text-align: right;\n",
       "    }\n",
       "</style>\n",
       "<table border=\"1\" class=\"dataframe\">\n",
       "  <thead>\n",
       "    <tr>\n",
       "      <th></th>\n",
       "      <th colspan=\"3\" halign=\"left\">prices</th>\n",
       "    </tr>\n",
       "    <tr>\n",
       "      <th></th>\n",
       "      <th>mean</th>\n",
       "      <th>min</th>\n",
       "      <th>max</th>\n",
       "    </tr>\n",
       "    <tr>\n",
       "      <th>income_range</th>\n",
       "      <th></th>\n",
       "      <th></th>\n",
       "      <th></th>\n",
       "    </tr>\n",
       "  </thead>\n",
       "  <tbody>\n",
       "    <tr>\n",
       "      <th>0 - 50k</th>\n",
       "      <td>6.703143</td>\n",
       "      <td>1.0</td>\n",
       "      <td>25.0</td>\n",
       "    </tr>\n",
       "    <tr>\n",
       "      <th>050-100k</th>\n",
       "      <td>8.437807</td>\n",
       "      <td>1.0</td>\n",
       "      <td>99999.0</td>\n",
       "    </tr>\n",
       "    <tr>\n",
       "      <th>100-150k</th>\n",
       "      <td>10.417650</td>\n",
       "      <td>1.0</td>\n",
       "      <td>99999.0</td>\n",
       "    </tr>\n",
       "    <tr>\n",
       "      <th>150-200k</th>\n",
       "      <td>17.046633</td>\n",
       "      <td>1.0</td>\n",
       "      <td>99999.0</td>\n",
       "    </tr>\n",
       "    <tr>\n",
       "      <th>200-300k</th>\n",
       "      <td>251.751404</td>\n",
       "      <td>1.0</td>\n",
       "      <td>99999.0</td>\n",
       "    </tr>\n",
       "    <tr>\n",
       "      <th>Over 300k</th>\n",
       "      <td>267.225586</td>\n",
       "      <td>1.0</td>\n",
       "      <td>99999.0</td>\n",
       "    </tr>\n",
       "  </tbody>\n",
       "</table>\n",
       "</div>"
      ],
      "text/plain": [
       "                  prices              \n",
       "                    mean  min      max\n",
       "income_range                          \n",
       "0 - 50k         6.703143  1.0     25.0\n",
       "050-100k        8.437807  1.0  99999.0\n",
       "100-150k       10.417650  1.0  99999.0\n",
       "150-200k       17.046633  1.0  99999.0\n",
       "200-300k      251.751404  1.0  99999.0\n",
       "Over 300k     267.225586  1.0  99999.0"
      ]
     },
     "execution_count": 110,
     "metadata": {},
     "output_type": "execute_result"
    }
   ],
   "source": [
    "expenditure_income"
   ]
  },
  {
   "cell_type": "code",
   "execution_count": 111,
   "id": "3181b56b",
   "metadata": {},
   "outputs": [],
   "source": [
    "expenditure_income.to_clipboard()"
   ]
  },
  {
   "cell_type": "code",
   "execution_count": 112,
   "id": "e98dc534",
   "metadata": {},
   "outputs": [],
   "source": [
    "# Usage frequency by income ranges\n",
    "\n",
    "usage_frequency_income = df_final.groupby('income_range').agg({'days_since_prior_order': ['mean', 'min', 'max']})"
   ]
  },
  {
   "cell_type": "code",
   "execution_count": 113,
   "id": "c924f9e9",
   "metadata": {},
   "outputs": [
    {
     "data": {
      "text/html": [
       "<div>\n",
       "<style scoped>\n",
       "    .dataframe tbody tr th:only-of-type {\n",
       "        vertical-align: middle;\n",
       "    }\n",
       "\n",
       "    .dataframe tbody tr th {\n",
       "        vertical-align: top;\n",
       "    }\n",
       "\n",
       "    .dataframe thead tr th {\n",
       "        text-align: left;\n",
       "    }\n",
       "\n",
       "    .dataframe thead tr:last-of-type th {\n",
       "        text-align: right;\n",
       "    }\n",
       "</style>\n",
       "<table border=\"1\" class=\"dataframe\">\n",
       "  <thead>\n",
       "    <tr>\n",
       "      <th></th>\n",
       "      <th colspan=\"3\" halign=\"left\">days_since_prior_order</th>\n",
       "    </tr>\n",
       "    <tr>\n",
       "      <th></th>\n",
       "      <th>mean</th>\n",
       "      <th>min</th>\n",
       "      <th>max</th>\n",
       "    </tr>\n",
       "    <tr>\n",
       "      <th>income_range</th>\n",
       "      <th></th>\n",
       "      <th></th>\n",
       "      <th></th>\n",
       "    </tr>\n",
       "  </thead>\n",
       "  <tbody>\n",
       "    <tr>\n",
       "      <th>0 - 50k</th>\n",
       "      <td>11.390625</td>\n",
       "      <td>0.0</td>\n",
       "      <td>30.0</td>\n",
       "    </tr>\n",
       "    <tr>\n",
       "      <th>050-100k</th>\n",
       "      <td>10.921875</td>\n",
       "      <td>0.0</td>\n",
       "      <td>30.0</td>\n",
       "    </tr>\n",
       "    <tr>\n",
       "      <th>100-150k</th>\n",
       "      <td>10.953125</td>\n",
       "      <td>0.0</td>\n",
       "      <td>30.0</td>\n",
       "    </tr>\n",
       "    <tr>\n",
       "      <th>150-200k</th>\n",
       "      <td>10.867188</td>\n",
       "      <td>0.0</td>\n",
       "      <td>30.0</td>\n",
       "    </tr>\n",
       "    <tr>\n",
       "      <th>200-300k</th>\n",
       "      <td>10.148438</td>\n",
       "      <td>0.0</td>\n",
       "      <td>30.0</td>\n",
       "    </tr>\n",
       "    <tr>\n",
       "      <th>Over 300k</th>\n",
       "      <td>10.164062</td>\n",
       "      <td>0.0</td>\n",
       "      <td>30.0</td>\n",
       "    </tr>\n",
       "  </tbody>\n",
       "</table>\n",
       "</div>"
      ],
      "text/plain": [
       "             days_since_prior_order           \n",
       "                               mean  min   max\n",
       "income_range                                  \n",
       "0 - 50k                   11.390625  0.0  30.0\n",
       "050-100k                  10.921875  0.0  30.0\n",
       "100-150k                  10.953125  0.0  30.0\n",
       "150-200k                  10.867188  0.0  30.0\n",
       "200-300k                  10.148438  0.0  30.0\n",
       "Over 300k                 10.164062  0.0  30.0"
      ]
     },
     "execution_count": 113,
     "metadata": {},
     "output_type": "execute_result"
    }
   ],
   "source": [
    "usage_frequency_income"
   ]
  },
  {
   "cell_type": "code",
   "execution_count": 114,
   "id": "e7895c4b",
   "metadata": {},
   "outputs": [],
   "source": [
    "usage_frequency_income.to_clipboard()"
   ]
  },
  {
   "cell_type": "markdown",
   "id": "6db7e39a",
   "metadata": {},
   "source": [
    "### 8.3 Parental Status"
   ]
  },
  {
   "cell_type": "code",
   "execution_count": 115,
   "id": "dd509b70",
   "metadata": {},
   "outputs": [],
   "source": [
    "# Expenditure by parental status \n",
    "\n",
    "expenditure_parent = df_final.groupby('parental_status').agg({'prices': ['mean', 'min', 'max']})"
   ]
  },
  {
   "cell_type": "code",
   "execution_count": 116,
   "id": "9566b2a3",
   "metadata": {},
   "outputs": [
    {
     "data": {
      "text/html": [
       "<div>\n",
       "<style scoped>\n",
       "    .dataframe tbody tr th:only-of-type {\n",
       "        vertical-align: middle;\n",
       "    }\n",
       "\n",
       "    .dataframe tbody tr th {\n",
       "        vertical-align: top;\n",
       "    }\n",
       "\n",
       "    .dataframe thead tr th {\n",
       "        text-align: left;\n",
       "    }\n",
       "\n",
       "    .dataframe thead tr:last-of-type th {\n",
       "        text-align: right;\n",
       "    }\n",
       "</style>\n",
       "<table border=\"1\" class=\"dataframe\">\n",
       "  <thead>\n",
       "    <tr>\n",
       "      <th></th>\n",
       "      <th colspan=\"3\" halign=\"left\">prices</th>\n",
       "    </tr>\n",
       "    <tr>\n",
       "      <th></th>\n",
       "      <th>mean</th>\n",
       "      <th>min</th>\n",
       "      <th>max</th>\n",
       "    </tr>\n",
       "    <tr>\n",
       "      <th>parental_status</th>\n",
       "      <th></th>\n",
       "      <th></th>\n",
       "      <th></th>\n",
       "    </tr>\n",
       "  </thead>\n",
       "  <tbody>\n",
       "    <tr>\n",
       "      <th>not parent</th>\n",
       "      <td>12.085102</td>\n",
       "      <td>1.0</td>\n",
       "      <td>99999.0</td>\n",
       "    </tr>\n",
       "    <tr>\n",
       "      <th>parent</th>\n",
       "      <td>11.924488</td>\n",
       "      <td>1.0</td>\n",
       "      <td>99999.0</td>\n",
       "    </tr>\n",
       "  </tbody>\n",
       "</table>\n",
       "</div>"
      ],
      "text/plain": [
       "                    prices              \n",
       "                      mean  min      max\n",
       "parental_status                         \n",
       "not parent       12.085102  1.0  99999.0\n",
       "parent           11.924488  1.0  99999.0"
      ]
     },
     "execution_count": 116,
     "metadata": {},
     "output_type": "execute_result"
    }
   ],
   "source": [
    "expenditure_parent"
   ]
  },
  {
   "cell_type": "code",
   "execution_count": 117,
   "id": "c98e79ce",
   "metadata": {},
   "outputs": [],
   "source": [
    "expenditure_parent.to_clipboard()"
   ]
  },
  {
   "cell_type": "code",
   "execution_count": 118,
   "id": "17fdef68",
   "metadata": {},
   "outputs": [],
   "source": [
    "# Usage frequency by parental status\n",
    "\n",
    "usage_frequency_parent = df_final.groupby('parental_status').agg({'days_since_prior_order': ['mean', 'min', 'max']})"
   ]
  },
  {
   "cell_type": "code",
   "execution_count": 119,
   "id": "c68a6850",
   "metadata": {},
   "outputs": [
    {
     "data": {
      "text/html": [
       "<div>\n",
       "<style scoped>\n",
       "    .dataframe tbody tr th:only-of-type {\n",
       "        vertical-align: middle;\n",
       "    }\n",
       "\n",
       "    .dataframe tbody tr th {\n",
       "        vertical-align: top;\n",
       "    }\n",
       "\n",
       "    .dataframe thead tr th {\n",
       "        text-align: left;\n",
       "    }\n",
       "\n",
       "    .dataframe thead tr:last-of-type th {\n",
       "        text-align: right;\n",
       "    }\n",
       "</style>\n",
       "<table border=\"1\" class=\"dataframe\">\n",
       "  <thead>\n",
       "    <tr>\n",
       "      <th></th>\n",
       "      <th colspan=\"3\" halign=\"left\">days_since_prior_order</th>\n",
       "    </tr>\n",
       "    <tr>\n",
       "      <th></th>\n",
       "      <th>mean</th>\n",
       "      <th>min</th>\n",
       "      <th>max</th>\n",
       "    </tr>\n",
       "    <tr>\n",
       "      <th>parental_status</th>\n",
       "      <th></th>\n",
       "      <th></th>\n",
       "      <th></th>\n",
       "    </tr>\n",
       "  </thead>\n",
       "  <tbody>\n",
       "    <tr>\n",
       "      <th>not parent</th>\n",
       "      <td>10.945312</td>\n",
       "      <td>0.0</td>\n",
       "      <td>30.0</td>\n",
       "    </tr>\n",
       "    <tr>\n",
       "      <th>parent</th>\n",
       "      <td>10.976562</td>\n",
       "      <td>0.0</td>\n",
       "      <td>30.0</td>\n",
       "    </tr>\n",
       "  </tbody>\n",
       "</table>\n",
       "</div>"
      ],
      "text/plain": [
       "                days_since_prior_order           \n",
       "                                  mean  min   max\n",
       "parental_status                                  \n",
       "not parent                   10.945312  0.0  30.0\n",
       "parent                       10.976562  0.0  30.0"
      ]
     },
     "execution_count": 119,
     "metadata": {},
     "output_type": "execute_result"
    }
   ],
   "source": [
    "usage_frequency_parent"
   ]
  },
  {
   "cell_type": "code",
   "execution_count": 120,
   "id": "0ae9fbc2",
   "metadata": {},
   "outputs": [],
   "source": [
    "usage_frequency_parent.to_clipboard()"
   ]
  },
  {
   "cell_type": "markdown",
   "id": "645ec982",
   "metadata": {},
   "source": [
    "### 8.4 Family Status"
   ]
  },
  {
   "cell_type": "code",
   "execution_count": 121,
   "id": "cbe8bf87",
   "metadata": {},
   "outputs": [],
   "source": [
    "# Expenditure by family status \n",
    "\n",
    "expenditure_fam = df_final.groupby('Marital_status').agg({'prices': ['mean', 'min', 'max']})"
   ]
  },
  {
   "cell_type": "code",
   "execution_count": 122,
   "id": "00ff584c",
   "metadata": {},
   "outputs": [
    {
     "data": {
      "text/html": [
       "<div>\n",
       "<style scoped>\n",
       "    .dataframe tbody tr th:only-of-type {\n",
       "        vertical-align: middle;\n",
       "    }\n",
       "\n",
       "    .dataframe tbody tr th {\n",
       "        vertical-align: top;\n",
       "    }\n",
       "\n",
       "    .dataframe thead tr th {\n",
       "        text-align: left;\n",
       "    }\n",
       "\n",
       "    .dataframe thead tr:last-of-type th {\n",
       "        text-align: right;\n",
       "    }\n",
       "</style>\n",
       "<table border=\"1\" class=\"dataframe\">\n",
       "  <thead>\n",
       "    <tr>\n",
       "      <th></th>\n",
       "      <th colspan=\"3\" halign=\"left\">prices</th>\n",
       "    </tr>\n",
       "    <tr>\n",
       "      <th></th>\n",
       "      <th>mean</th>\n",
       "      <th>min</th>\n",
       "      <th>max</th>\n",
       "    </tr>\n",
       "    <tr>\n",
       "      <th>Marital_status</th>\n",
       "      <th></th>\n",
       "      <th></th>\n",
       "      <th></th>\n",
       "    </tr>\n",
       "  </thead>\n",
       "  <tbody>\n",
       "    <tr>\n",
       "      <th>divorced/widowed</th>\n",
       "      <td>11.444293</td>\n",
       "      <td>1.0</td>\n",
       "      <td>99999.0</td>\n",
       "    </tr>\n",
       "    <tr>\n",
       "      <th>living with parents and siblings</th>\n",
       "      <td>10.787795</td>\n",
       "      <td>1.0</td>\n",
       "      <td>99999.0</td>\n",
       "    </tr>\n",
       "    <tr>\n",
       "      <th>married</th>\n",
       "      <td>12.002018</td>\n",
       "      <td>1.0</td>\n",
       "      <td>99999.0</td>\n",
       "    </tr>\n",
       "    <tr>\n",
       "      <th>single</th>\n",
       "      <td>12.418473</td>\n",
       "      <td>1.0</td>\n",
       "      <td>99999.0</td>\n",
       "    </tr>\n",
       "  </tbody>\n",
       "</table>\n",
       "</div>"
      ],
      "text/plain": [
       "                                     prices              \n",
       "                                       mean  min      max\n",
       "Marital_status                                           \n",
       "divorced/widowed                  11.444293  1.0  99999.0\n",
       "living with parents and siblings  10.787795  1.0  99999.0\n",
       "married                           12.002018  1.0  99999.0\n",
       "single                            12.418473  1.0  99999.0"
      ]
     },
     "execution_count": 122,
     "metadata": {},
     "output_type": "execute_result"
    }
   ],
   "source": [
    "expenditure_fam"
   ]
  },
  {
   "cell_type": "code",
   "execution_count": 123,
   "id": "5b8ee566",
   "metadata": {},
   "outputs": [],
   "source": [
    "expenditure_fam.to_clipboard()"
   ]
  },
  {
   "cell_type": "code",
   "execution_count": 124,
   "id": "748536fc",
   "metadata": {},
   "outputs": [],
   "source": [
    "# Usage frequency by family status \n",
    "\n",
    "usage_frequency_fam = df_final.groupby('Marital_status').agg({'days_since_prior_order': ['mean', 'min', 'max']})"
   ]
  },
  {
   "cell_type": "code",
   "execution_count": 125,
   "id": "11e4e94a",
   "metadata": {},
   "outputs": [
    {
     "data": {
      "text/html": [
       "<div>\n",
       "<style scoped>\n",
       "    .dataframe tbody tr th:only-of-type {\n",
       "        vertical-align: middle;\n",
       "    }\n",
       "\n",
       "    .dataframe tbody tr th {\n",
       "        vertical-align: top;\n",
       "    }\n",
       "\n",
       "    .dataframe thead tr th {\n",
       "        text-align: left;\n",
       "    }\n",
       "\n",
       "    .dataframe thead tr:last-of-type th {\n",
       "        text-align: right;\n",
       "    }\n",
       "</style>\n",
       "<table border=\"1\" class=\"dataframe\">\n",
       "  <thead>\n",
       "    <tr>\n",
       "      <th></th>\n",
       "      <th colspan=\"3\" halign=\"left\">days_since_prior_order</th>\n",
       "    </tr>\n",
       "    <tr>\n",
       "      <th></th>\n",
       "      <th>mean</th>\n",
       "      <th>min</th>\n",
       "      <th>max</th>\n",
       "    </tr>\n",
       "    <tr>\n",
       "      <th>Marital_status</th>\n",
       "      <th></th>\n",
       "      <th></th>\n",
       "      <th></th>\n",
       "    </tr>\n",
       "  </thead>\n",
       "  <tbody>\n",
       "    <tr>\n",
       "      <th>divorced/widowed</th>\n",
       "      <td>10.914062</td>\n",
       "      <td>0.0</td>\n",
       "      <td>30.0</td>\n",
       "    </tr>\n",
       "    <tr>\n",
       "      <th>living with parents and siblings</th>\n",
       "      <td>10.914062</td>\n",
       "      <td>0.0</td>\n",
       "      <td>30.0</td>\n",
       "    </tr>\n",
       "    <tr>\n",
       "      <th>married</th>\n",
       "      <td>10.984375</td>\n",
       "      <td>0.0</td>\n",
       "      <td>30.0</td>\n",
       "    </tr>\n",
       "    <tr>\n",
       "      <th>single</th>\n",
       "      <td>10.968750</td>\n",
       "      <td>0.0</td>\n",
       "      <td>30.0</td>\n",
       "    </tr>\n",
       "  </tbody>\n",
       "</table>\n",
       "</div>"
      ],
      "text/plain": [
       "                                 days_since_prior_order           \n",
       "                                                   mean  min   max\n",
       "Marital_status                                                    \n",
       "divorced/widowed                              10.914062  0.0  30.0\n",
       "living with parents and siblings              10.914062  0.0  30.0\n",
       "married                                       10.984375  0.0  30.0\n",
       "single                                        10.968750  0.0  30.0"
      ]
     },
     "execution_count": 125,
     "metadata": {},
     "output_type": "execute_result"
    }
   ],
   "source": [
    "usage_frequency_fam"
   ]
  },
  {
   "cell_type": "code",
   "execution_count": 126,
   "id": "ace9e301",
   "metadata": {},
   "outputs": [],
   "source": [
    "usage_frequency_fam.to_clipboard()"
   ]
  },
  {
   "cell_type": "markdown",
   "id": "0054227f",
   "metadata": {},
   "source": [
    "# 09. Comparing Customer Profiles with Regions and Departments "
   ]
  },
  {
   "cell_type": "markdown",
   "id": "5cf4b30b",
   "metadata": {},
   "source": [
    "### Q8 - Compare your customer profiles with regions and departments. Can you identify a link between them? Customers may demonstrate different behaviors across regions, which could make this information important."
   ]
  },
  {
   "cell_type": "markdown",
   "id": "b10559a2",
   "metadata": {},
   "source": [
    "### 9.1 Regional Breakdown"
   ]
  },
  {
   "cell_type": "code",
   "execution_count": 127,
   "id": "32443e34",
   "metadata": {
    "scrolled": true
   },
   "outputs": [
    {
     "data": {
      "text/plain": [
       "Text(0, 0.5, '')"
      ]
     },
     "execution_count": 127,
     "metadata": {},
     "output_type": "execute_result"
    },
    {
     "data": {
      "image/png": "[encoded data removed]",
      "text/plain": [
       "<Figure size 432x288 with 1 Axes>"
      ]
     },
     "metadata": {},
     "output_type": "display_data"
    }
   ],
   "source": [
    "# Pie chart for regional breakdown\n",
    "\n",
    "pie_region = df_final['Region'].value_counts().sort_index().plot.pie(autopct='%1.1f%%', colors = sns.color_palette('rainbow_r', 4))\n",
    "plt.ylabel('')"
   ]
  },
  {
   "cell_type": "code",
   "execution_count": 128,
   "id": "71efc4dd",
   "metadata": {},
   "outputs": [
    {
     "data": {
      "text/plain": [
       "(array([0, 1, 2, 3]),\n",
       " [Text(0, 0, 'Midwest'),\n",
       "  Text(1, 0, 'Northeast'),\n",
       "  Text(2, 0, 'South'),\n",
       "  Text(3, 0, 'West')])"
      ]
     },
     "execution_count": 128,
     "metadata": {},
     "output_type": "execute_result"
    },
    {
     "data": {
      "image/png": "[encoded data removed]",
      "text/plain": [
       "<Figure size 432x288 with 1 Axes>"
      ]
     },
     "metadata": {
      "needs_background": "light"
     },
     "output_type": "display_data"
    }
   ],
   "source": [
    "# Creating a bar chart for regional breakdown\n",
    "\n",
    "region_bar = df_final['Region'].value_counts().sort_index().plot.bar(color = sns.color_palette('rainbow_r', 4))\n",
    "\n",
    "plt.xticks(rotation= 20, horizontalalignment=\"center\")"
   ]
  },
  {
   "cell_type": "code",
   "execution_count": 129,
   "id": "be2b6783",
   "metadata": {},
   "outputs": [],
   "source": [
    "# What days of the week are more popular by region?\n",
    "\n",
    "# Creating a crosstab\n",
    "\n",
    "crosstab_days_region = pd.crosstab(df_final['day'], df_final['Region'], dropna = False)"
   ]
  },
  {
   "cell_type": "code",
   "execution_count": 130,
   "id": "62e314ad",
   "metadata": {},
   "outputs": [
    {
     "data": {
      "text/plain": [
       "(array([0, 1, 2, 3, 4, 5, 6]),\n",
       " [Text(0, 0, 'Friday'),\n",
       "  Text(1, 0, 'Monday'),\n",
       "  Text(2, 0, 'Saturday'),\n",
       "  Text(3, 0, 'Sunday'),\n",
       "  Text(4, 0, 'Thursday'),\n",
       "  Text(5, 0, 'Tuesday'),\n",
       "  Text(6, 0, 'Wednesday')])"
      ]
     },
     "execution_count": 130,
     "metadata": {},
     "output_type": "execute_result"
    },
    {
     "data": {
      "image/png": "[encoded data removed]",
      "text/plain": [
       "<Figure size 432x288 with 1 Axes>"
      ]
     },
     "metadata": {
      "needs_background": "light"
     },
     "output_type": "display_data"
    }
   ],
   "source": [
    "# Creating a stacked bar chart  \n",
    "\n",
    "bar_days_region = crosstab_days_region.plot(kind = 'bar', stacked = True, color = sns.color_palette('rainbow_r', 4))\n",
    "plt.xticks(rotation= 20, horizontalalignment=\"center\")"
   ]
  },
  {
   "cell_type": "code",
   "execution_count": 131,
   "id": "65b1bfa3",
   "metadata": {},
   "outputs": [],
   "source": [
    "crosstab_gen_region = pd.crosstab(df_final['Generation'], df_final['Region'], dropna = False)"
   ]
  },
  {
   "cell_type": "code",
   "execution_count": 132,
   "id": "dadba9b5",
   "metadata": {},
   "outputs": [
    {
     "data": {
      "text/plain": [
       "(array([0, 1, 2, 3, 4]),\n",
       " [Text(0, 0, 'Boomers'),\n",
       "  Text(1, 0, 'Gen_X'),\n",
       "  Text(2, 0, 'Gen_Z'),\n",
       "  Text(3, 0, 'Millennials'),\n",
       "  Text(4, 0, 'Silent_Gen')])"
      ]
     },
     "execution_count": 132,
     "metadata": {},
     "output_type": "execute_result"
    },
    {
     "data": {
      "image/png": "[encoded data removed]",
      "text/plain": [
       "<Figure size 432x288 with 1 Axes>"
      ]
     },
     "metadata": {
      "needs_background": "light"
     },
     "output_type": "display_data"
    }
   ],
   "source": [
    "# Creating a stacked bar chart \n",
    "\n",
    "bar_crosstab_gen_region = crosstab_gen_region.plot(kind = 'bar', stacked = True, color = sns.color_palette('rainbow_r', 4))\n",
    "plt.legend(loc='center left', bbox_to_anchor=(1, 0.5))\n",
    "plt.xticks(rotation= 20, horizontalalignment=\"center\")"
   ]
  },
  {
   "cell_type": "code",
   "execution_count": 133,
   "id": "6866a1e6",
   "metadata": {},
   "outputs": [
    {
     "data": {
      "text/plain": [
       "(array([0, 1, 2, 3, 4]),\n",
       " [Text(0, 0, 'Boomers'),\n",
       "  Text(1, 0, 'Gen_X'),\n",
       "  Text(2, 0, 'Gen_Z'),\n",
       "  Text(3, 0, 'Millennials'),\n",
       "  Text(4, 0, 'Silent_Gen')])"
      ]
     },
     "execution_count": 133,
     "metadata": {},
     "output_type": "execute_result"
    },
    {
     "data": {
      "image/png": "[encoded data removed]",
      "text/plain": [
       "<Figure size 432x288 with 1 Axes>"
      ]
     },
     "metadata": {
      "needs_background": "light"
     },
     "output_type": "display_data"
    }
   ],
   "source": [
    "# A 100% stacked bar chart \n",
    "\n",
    "bar_crosstab_gen_region_100 = crosstab_gen_region.apply(lambda r: r/r.sum()*100, axis=1).plot(kind = 'bar', stacked = True, color = sns.color_palette('rainbow_r', 4))\n",
    "plt.legend(loc='center left', bbox_to_anchor=(1, 0.5))\n",
    "plt.xticks(rotation= 20, horizontalalignment=\"center\")"
   ]
  },
  {
   "cell_type": "code",
   "execution_count": 134,
   "id": "bcc9ad21",
   "metadata": {},
   "outputs": [],
   "source": [
    "# Creating a crosstab of deptartment sales regionally\n",
    "\n",
    "crosstab_region_dept = pd.crosstab(df_final['department'], df_final['Region'], dropna = False)"
   ]
  },
  {
   "cell_type": "code",
   "execution_count": 135,
   "id": "7c8c5a94",
   "metadata": {},
   "outputs": [
    {
     "data": {
      "image/png": "[encoded data removed]",
      "text/plain": [
       "<Figure size 432x288 with 1 Axes>"
      ]
     },
     "metadata": {
      "needs_background": "light"
     },
     "output_type": "display_data"
    }
   ],
   "source": [
    "# Creating a stacked bar chart \n",
    "\n",
    "bar_region_dept = crosstab_region_dept.plot(kind = 'bar', stacked = True, color = sns.color_palette('rainbow_r', 4))"
   ]
  },
  {
   "cell_type": "code",
   "execution_count": 136,
   "id": "2272df61",
   "metadata": {},
   "outputs": [
    {
     "data": {
      "text/plain": [
       "<matplotlib.legend.Legend at 0x27ba09d1fd0>"
      ]
     },
     "execution_count": 136,
     "metadata": {},
     "output_type": "execute_result"
    },
    {
     "data": {
      "image/png": "[encoded data removed]",
      "text/plain": [
       "<Figure size 432x288 with 1 Axes>"
      ]
     },
     "metadata": {
      "needs_background": "light"
     },
     "output_type": "display_data"
    }
   ],
   "source": [
    "# Creating a 100% stacked bar chart \n",
    "\n",
    "bar_region_dept_100 = crosstab_region_dept.apply(lambda r: r/r.sum()*100, axis=1).plot(kind = 'bar', stacked = True, color = sns.color_palette('rainbow_r', 4))\n",
    "plt.legend(loc='center left', bbox_to_anchor=(1, 0.5))"
   ]
  },
  {
   "cell_type": "code",
   "execution_count": 137,
   "id": "b41a1437",
   "metadata": {},
   "outputs": [],
   "source": [
    "# Exporting Visualizations\n",
    "\n",
    "pie_region.figure.savefig(os.path.join(path, '04 Analysis','Viz', 'pie_region.png'))"
   ]
  },
  {
   "cell_type": "code",
   "execution_count": 138,
   "id": "19e476a1",
   "metadata": {},
   "outputs": [],
   "source": [
    "region_bar.figure.savefig(os.path.join(path, '04 Analysis','Viz', 'bar_region.png'))"
   ]
  },
  {
   "cell_type": "code",
   "execution_count": 139,
   "id": "c6eef2bd",
   "metadata": {},
   "outputs": [],
   "source": [
    "bar_days_region.figure.savefig(os.path.join(path, '04 Analysis','Viz', 'bar_days_region.png'))"
   ]
  },
  {
   "cell_type": "code",
   "execution_count": 140,
   "id": "a465881e",
   "metadata": {},
   "outputs": [],
   "source": [
    "bar_crosstab_gen_region.figure.savefig(os.path.join(path, '04 Analysis','Viz', 'bar_gen_region.png'))"
   ]
  },
  {
   "cell_type": "code",
   "execution_count": 141,
   "id": "6f926eb5",
   "metadata": {},
   "outputs": [],
   "source": [
    "bar_crosstab_gen_region_100.figure.savefig(os.path.join(path, '04 Analysis','Viz', 'bar_gen_region_100.png'))"
   ]
  },
  {
   "cell_type": "code",
   "execution_count": 142,
   "id": "0230f6d9",
   "metadata": {},
   "outputs": [],
   "source": [
    "bar_region_dept.figure.savefig(os.path.join(path, '04 Analysis','Viz', 'bar_region_dept.png'))"
   ]
  },
  {
   "cell_type": "code",
   "execution_count": 143,
   "id": "5395ec25",
   "metadata": {},
   "outputs": [],
   "source": [
    "bar_region_dept_100.figure.savefig(os.path.join(path, '04 Analysis','Viz', 'bar_region_dept_100.png'))"
   ]
  },
  {
   "cell_type": "markdown",
   "id": "7536aa0e",
   "metadata": {},
   "source": [
    "### 9.2 Generation & Departments"
   ]
  },
  {
   "cell_type": "code",
   "execution_count": 144,
   "id": "cc994f5a",
   "metadata": {},
   "outputs": [],
   "source": [
    "# Creating a crosstab for generations and departments \n",
    "\n",
    "crosstab_gen_dept = pd.crosstab(df_final['department'], df_final['Generation'], dropna = False)"
   ]
  },
  {
   "cell_type": "code",
   "execution_count": 145,
   "id": "a148a9cc",
   "metadata": {},
   "outputs": [
    {
     "data": {
      "image/png": "[encoded data removed]",
      "text/plain": [
       "<Figure size 432x288 with 1 Axes>"
      ]
     },
     "metadata": {
      "needs_background": "light"
     },
     "output_type": "display_data"
    }
   ],
   "source": [
    "# Stacked bar chart \n",
    "\n",
    "bar_crosstab_gen_dept = crosstab_gen_dept.plot(kind = 'bar', stacked = True, color = sns.color_palette('rocket_r', 5))"
   ]
  },
  {
   "cell_type": "code",
   "execution_count": 146,
   "id": "1b09a6c0",
   "metadata": {},
   "outputs": [
    {
     "data": {
      "text/plain": [
       "<matplotlib.legend.Legend at 0x27ba634f4f0>"
      ]
     },
     "execution_count": 146,
     "metadata": {},
     "output_type": "execute_result"
    },
    {
     "data": {
      "image/png": "[encoded data removed]",
      "text/plain": [
       "<Figure size 432x288 with 1 Axes>"
      ]
     },
     "metadata": {
      "needs_background": "light"
     },
     "output_type": "display_data"
    }
   ],
   "source": [
    "# Creating a 100% stacked bar chart \n",
    "\n",
    "bar_crosstab_gen_dept_100 = crosstab_gen_dept.apply(lambda r: r/r.sum()*100, axis=1).plot(kind = 'bar', stacked = True, color = sns.color_palette('rocket_r',5))\n",
    "plt.legend(loc='center left', bbox_to_anchor=(1, 0.5))"
   ]
  },
  {
   "cell_type": "code",
   "execution_count": 147,
   "id": "e4204f27",
   "metadata": {},
   "outputs": [],
   "source": [
    "# Export visuals \n",
    "\n",
    "bar_crosstab_gen_dept.figure.savefig(os.path.join(path, '04 Analysis','Viz', 'bar_gen_dept.png'))"
   ]
  },
  {
   "cell_type": "code",
   "execution_count": 148,
   "id": "419a11a0",
   "metadata": {},
   "outputs": [],
   "source": [
    "bar_crosstab_gen_dept_100.figure.savefig(os.path.join(path, '04 Analysis','Viz', 'bar_gen_dept_100.png'))"
   ]
  },
  {
   "cell_type": "markdown",
   "id": "3107e322",
   "metadata": {},
   "source": [
    "### 9.3 Income Comparisons"
   ]
  },
  {
   "cell_type": "markdown",
   "id": "9bc87a03",
   "metadata": {},
   "source": [
    "#### Income & Region"
   ]
  },
  {
   "cell_type": "code",
   "execution_count": 149,
   "id": "b4e360fc",
   "metadata": {},
   "outputs": [],
   "source": [
    "# Creating a crosstab for income_categories and region\n",
    "\n",
    "crosstab_income_region = pd.crosstab(df_final['income_range'], df_final['Region'], dropna = False)"
   ]
  },
  {
   "cell_type": "code",
   "execution_count": 150,
   "id": "4de67051",
   "metadata": {},
   "outputs": [
    {
     "data": {
      "text/plain": [
       "(array([0, 1, 2, 3, 4, 5]),\n",
       " [Text(0, 0, '0 - 50k'),\n",
       "  Text(1, 0, '050-100k'),\n",
       "  Text(2, 0, '100-150k'),\n",
       "  Text(3, 0, '150-200k'),\n",
       "  Text(4, 0, '200-300k'),\n",
       "  Text(5, 0, 'Over 300k')])"
      ]
     },
     "execution_count": 150,
     "metadata": {},
     "output_type": "execute_result"
    },
    {
     "data": {
      "image/png": "[encoded data removed]",
      "text/plain": [
       "<Figure size 432x288 with 1 Axes>"
      ]
     },
     "metadata": {
      "needs_background": "light"
     },
     "output_type": "display_data"
    }
   ],
   "source": [
    "# Creating a stacked bar chart \n",
    "\n",
    "bar_crosstab_income_region = crosstab_income_region.plot(kind = 'bar', stacked = True, color = sns.color_palette('rainbow_r', 4))\n",
    "plt.xticks(rotation= 20, horizontalalignment=\"center\")"
   ]
  },
  {
   "cell_type": "code",
   "execution_count": 151,
   "id": "bb7e70a8",
   "metadata": {},
   "outputs": [
    {
     "data": {
      "text/plain": [
       "(array([0, 1, 2, 3, 4, 5]),\n",
       " [Text(0, 0, '0 - 50k'),\n",
       "  Text(1, 0, '050-100k'),\n",
       "  Text(2, 0, '100-150k'),\n",
       "  Text(3, 0, '150-200k'),\n",
       "  Text(4, 0, '200-300k'),\n",
       "  Text(5, 0, 'Over 300k')])"
      ]
     },
     "execution_count": 151,
     "metadata": {},
     "output_type": "execute_result"
    },
    {
     "data": {
      "image/png": "[encoded data removed]",
      "text/plain": [
       "<Figure size 432x288 with 1 Axes>"
      ]
     },
     "metadata": {
      "needs_background": "light"
     },
     "output_type": "display_data"
    }
   ],
   "source": [
    "# Creating a 100% stacked bar chart \n",
    "\n",
    "bar_crosstab_income_region_100 = crosstab_income_region.apply(lambda r: r/r.sum()*100, axis=1).plot(kind = 'bar', stacked = True, color = sns.color_palette('rainbow_r', 4))\n",
    "plt.title('Income Across States')\n",
    "plt.legend(loc='center left', bbox_to_anchor=(1, 0.5))\n",
    "plt.xticks(rotation= 20, horizontalalignment=\"center\")"
   ]
  },
  {
   "cell_type": "code",
   "execution_count": 152,
   "id": "3e43acfe",
   "metadata": {},
   "outputs": [],
   "source": [
    "# Exporting visuals\n",
    "\n",
    "bar_crosstab_income_region.figure.savefig(os.path.join(path, '04 Analysis','Viz', 'bar_income_region.png'))"
   ]
  },
  {
   "cell_type": "code",
   "execution_count": 153,
   "id": "9dea8d16",
   "metadata": {},
   "outputs": [],
   "source": [
    "bar_crosstab_income_region_100.figure.savefig(os.path.join(path, '04 Analysis','Viz', 'bar_income_region_100.png'))"
   ]
  },
  {
   "cell_type": "markdown",
   "id": "893a3767",
   "metadata": {},
   "source": [
    "#### Income & Departments"
   ]
  },
  {
   "cell_type": "code",
   "execution_count": 154,
   "id": "24111be7",
   "metadata": {},
   "outputs": [],
   "source": [
    "# Creating a crosstab for income and department \n",
    "\n",
    "crosstab_income_dept = pd.crosstab(df_final['department'], df_final['income_range'], dropna = False)"
   ]
  },
  {
   "cell_type": "code",
   "execution_count": 155,
   "id": "6d58b7c3",
   "metadata": {},
   "outputs": [
    {
     "data": {
      "text/plain": [
       "<matplotlib.legend.Legend at 0x27a19e19c40>"
      ]
     },
     "execution_count": 155,
     "metadata": {},
     "output_type": "execute_result"
    },
    {
     "data": {
      "image/png": "[encoded data removed]",
      "text/plain": [
       "<Figure size 432x288 with 1 Axes>"
      ]
     },
     "metadata": {
      "needs_background": "light"
     },
     "output_type": "display_data"
    }
   ],
   "source": [
    "# Creating a stacked bar chart \n",
    "\n",
    "bar_crosstab_income_dept = crosstab_income_dept.plot(kind = 'bar', stacked = True, color = sns.color_palette('Set2_r', 8))\n",
    "plt.legend(loc='center left', bbox_to_anchor=(1, 0.5))"
   ]
  },
  {
   "cell_type": "code",
   "execution_count": 156,
   "id": "6b6e3426",
   "metadata": {},
   "outputs": [
    {
     "data": {
      "text/plain": [
       "<matplotlib.legend.Legend at 0x27a19eafca0>"
      ]
     },
     "execution_count": 156,
     "metadata": {},
     "output_type": "execute_result"
    },
    {
     "data": {
      "image/png": "[encoded data removed]",
      "text/plain": [
       "<Figure size 432x288 with 1 Axes>"
      ]
     },
     "metadata": {
      "needs_background": "light"
     },
     "output_type": "display_data"
    }
   ],
   "source": [
    "# Creating a 100% stacked bar chart \n",
    "\n",
    "bar_crosstab_income_dept_100 = crosstab_income_dept.apply(lambda r: r/r.sum()*100, axis=1).plot(kind = 'bar', stacked = True, color = sns.color_palette('Set2_r', 8))\n",
    "plt.legend(loc='center left', bbox_to_anchor=(1, 0.5))"
   ]
  },
  {
   "cell_type": "code",
   "execution_count": 157,
   "id": "04acfda4",
   "metadata": {},
   "outputs": [],
   "source": [
    "# Export visuals\n",
    "\n",
    "bar_crosstab_income_dept.figure.savefig(os.path.join(path, '04 Analysis','Viz', 'bar_income_dept.png'))"
   ]
  },
  {
   "cell_type": "code",
   "execution_count": 158,
   "id": "a7cf355d",
   "metadata": {},
   "outputs": [],
   "source": [
    "bar_crosstab_income_dept_100.figure.savefig(os.path.join(path, '04 Analysis','Viz', 'bar_income_dept_100.png'))"
   ]
  },
  {
   "cell_type": "markdown",
   "id": "60816089",
   "metadata": {},
   "source": [
    "### 9.4 Family Status"
   ]
  },
  {
   "cell_type": "markdown",
   "id": "9b9756c0",
   "metadata": {},
   "source": [
    "#### Family Status & Region"
   ]
  },
  {
   "cell_type": "code",
   "execution_count": 159,
   "id": "740b1280",
   "metadata": {},
   "outputs": [],
   "source": [
    "# Creating a crosstab for family status regionally\n",
    "\n",
    "crosstab_family_region = pd.crosstab(df_final['Marital_status'], df_final['Region'], dropna = False)"
   ]
  },
  {
   "cell_type": "code",
   "execution_count": 160,
   "id": "3015c796",
   "metadata": {},
   "outputs": [
    {
     "data": {
      "text/plain": [
       "(array([0, 1, 2, 3]),\n",
       " [Text(0, 0, 'divorced/widowed'),\n",
       "  Text(1, 0, 'living with parents and siblings'),\n",
       "  Text(2, 0, 'married'),\n",
       "  Text(3, 0, 'single')])"
      ]
     },
     "execution_count": 160,
     "metadata": {},
     "output_type": "execute_result"
    },
    {
     "data": {
      "image/png": "[encoded data removed]",
      "text/plain": [
       "<Figure size 432x288 with 1 Axes>"
      ]
     },
     "metadata": {
      "needs_background": "light"
     },
     "output_type": "display_data"
    }
   ],
   "source": [
    "# Creating a stacked bar chart\n",
    "\n",
    "bar_family_region_ = crosstab_family_region.plot(kind = 'bar', stacked = True, color = sns.color_palette('rainbow_r', 4))\n",
    "plt.legend(loc='center left', bbox_to_anchor=(1, 0.5))\n",
    "plt.xticks(rotation= 40, horizontalalignment=\"center\")"
   ]
  },
  {
   "cell_type": "code",
   "execution_count": 161,
   "id": "922ec70d",
   "metadata": {
    "scrolled": true
   },
   "outputs": [
    {
     "data": {
      "text/plain": [
       "(array([0, 1, 2, 3]),\n",
       " [Text(0, 0, 'divorced/widowed'),\n",
       "  Text(1, 0, 'living with parents and siblings'),\n",
       "  Text(2, 0, 'married'),\n",
       "  Text(3, 0, 'single')])"
      ]
     },
     "execution_count": 161,
     "metadata": {},
     "output_type": "execute_result"
    },
    {
     "data": {
      "image/png": "[encoded data removed]",
      "text/plain": [
       "<Figure size 432x288 with 1 Axes>"
      ]
     },
     "metadata": {
      "needs_background": "light"
     },
     "output_type": "display_data"
    }
   ],
   "source": [
    "# Creating a 100% stacked bar chart \n",
    "\n",
    "bar_family_region_100 = crosstab_family_region.apply(lambda r: r/r.sum()*100, axis=1).plot(kind = 'bar', stacked = True, color = sns.color_palette('rainbow_r', 4))\n",
    "plt.legend(loc='center left', bbox_to_anchor=(1, 0.5))\n",
    "plt.xticks(rotation= 40, horizontalalignment=\"center\")"
   ]
  },
  {
   "cell_type": "markdown",
   "id": "ea169f53",
   "metadata": {},
   "source": [
    "#### Family Status & Departments"
   ]
  },
  {
   "cell_type": "code",
   "execution_count": 162,
   "id": "df143118",
   "metadata": {},
   "outputs": [],
   "source": [
    "# Creating a crosstab for family status and departments \n",
    "\n",
    "crosstab_dept_fam = pd.crosstab(df_final['department'], df_final['Marital_status'], dropna = False)"
   ]
  },
  {
   "cell_type": "code",
   "execution_count": 163,
   "id": "165a0e34",
   "metadata": {},
   "outputs": [
    {
     "data": {
      "image/png": "[encoded data removed]",
      "text/plain": [
       "<Figure size 432x288 with 1 Axes>"
      ]
     },
     "metadata": {
      "needs_background": "light"
     },
     "output_type": "display_data"
    }
   ],
   "source": [
    "# Stacked bar chart\n",
    "\n",
    "bar_dept_fam = crosstab_dept_fam.sort_index().plot(kind = 'bar', stacked = True, color = sns.color_palette('coolwarm', 4))"
   ]
  },
  {
   "cell_type": "code",
   "execution_count": 164,
   "id": "a6220b8c",
   "metadata": {},
   "outputs": [
    {
     "data": {
      "image/png": "[encoded data removed]",
      "text/plain": [
       "<Figure size 432x288 with 1 Axes>"
      ]
     },
     "metadata": {
      "needs_background": "light"
     },
     "output_type": "display_data"
    }
   ],
   "source": [
    "# Creating a 100% stacked bar chart\n",
    "\n",
    "bar_dept_fam_100 = crosstab_dept_fam.sort_index().apply(lambda r: r/r.sum()*100, axis=1).plot(kind = 'bar', stacked = True, color = sns.color_palette('coolwarm', 4))"
   ]
  },
  {
   "cell_type": "markdown",
   "id": "0d61b0e2",
   "metadata": {},
   "source": [
    "### 9.5 Parental Status"
   ]
  },
  {
   "cell_type": "markdown",
   "id": "b4645cf5",
   "metadata": {},
   "source": [
    "#### Parental Status Regionally"
   ]
  },
  {
   "cell_type": "code",
   "execution_count": 165,
   "id": "6f0d7f07",
   "metadata": {},
   "outputs": [],
   "source": [
    "# Creating a crosstab for parental status regionally\n",
    "\n",
    "crosstab_parent_region = pd.crosstab(df_final['parental_status'], df_final['Region'], dropna = False)"
   ]
  },
  {
   "cell_type": "code",
   "execution_count": 166,
   "id": "bc5dd927",
   "metadata": {},
   "outputs": [
    {
     "data": {
      "text/plain": [
       "(array([0, 1]), [Text(0, 0, 'not parent'), Text(1, 0, 'parent')])"
      ]
     },
     "execution_count": 166,
     "metadata": {},
     "output_type": "execute_result"
    },
    {
     "data": {
      "image/png": "[encoded data removed]",
      "text/plain": [
       "<Figure size 432x288 with 1 Axes>"
      ]
     },
     "metadata": {
      "needs_background": "light"
     },
     "output_type": "display_data"
    }
   ],
   "source": [
    "# Creating a stacked bar chart \n",
    "\n",
    "bar_parent_region = crosstab_parent_region.plot(kind = 'bar', stacked = True, color = sns.color_palette('rainbow_r', 4))\n",
    "plt.xticks(rotation= 20, horizontalalignment=\"center\")"
   ]
  },
  {
   "cell_type": "code",
   "execution_count": 167,
   "id": "03bd84e1",
   "metadata": {},
   "outputs": [
    {
     "data": {
      "text/plain": [
       "(array([0, 1]), [Text(0, 0, 'not parent'), Text(1, 0, 'parent')])"
      ]
     },
     "execution_count": 167,
     "metadata": {},
     "output_type": "execute_result"
    },
    {
     "data": {
      "image/png": "[encoded data removed]",
      "text/plain": [
       "<Figure size 432x288 with 1 Axes>"
      ]
     },
     "metadata": {
      "needs_background": "light"
     },
     "output_type": "display_data"
    }
   ],
   "source": [
    "# Creating a 100 % Stacked Bar Chart\n",
    "\n",
    "bar_parent_region_100 = crosstab_parent_region.apply(lambda r: r/r.sum()*100, axis=1).plot(kind = 'bar', stacked = True, color = sns.color_palette('rainbow_r', 4))\n",
    "plt.legend(loc='center left', bbox_to_anchor=(1, 0.5))\n",
    "plt.xticks(rotation= 20, horizontalalignment=\"center\")"
   ]
  },
  {
   "cell_type": "code",
   "execution_count": 168,
   "id": "60d6fad7",
   "metadata": {},
   "outputs": [],
   "source": [
    "# Exporting visuals\n",
    "\n",
    "bar_parent_region.figure.savefig(os.path.join(path, '04 Analysis','Viz', 'bar_parent_region.png'))"
   ]
  },
  {
   "cell_type": "code",
   "execution_count": 169,
   "id": "8666dd37",
   "metadata": {},
   "outputs": [],
   "source": [
    "bar_parent_region_100.figure.savefig(os.path.join(path, '04 Analysis','Viz', 'bar_parent_region_100.png'))"
   ]
  },
  {
   "cell_type": "markdown",
   "id": "cc8277ad",
   "metadata": {},
   "source": [
    "#### Parental Status & Departments"
   ]
  },
  {
   "cell_type": "code",
   "execution_count": 170,
   "id": "37796977",
   "metadata": {},
   "outputs": [],
   "source": [
    "# Creating crosstab for parental status and departments\n",
    "\n",
    "crosstab_parent_dept = pd.crosstab(df_final['department'], df_final['parental_status'], dropna = False)"
   ]
  },
  {
   "cell_type": "code",
   "execution_count": 171,
   "id": "e77720e5",
   "metadata": {},
   "outputs": [
    {
     "data": {
      "image/png": "[encoded data removed]",
      "text/plain": [
       "<Figure size 432x288 with 1 Axes>"
      ]
     },
     "metadata": {
      "needs_background": "light"
     },
     "output_type": "display_data"
    }
   ],
   "source": [
    "# Creating a stacked bar chart \n",
    "\n",
    "bar_parent_dept = crosstab_parent_dept.plot(kind = 'bar', stacked = True, color = sns.color_palette('PuOr',2))"
   ]
  },
  {
   "cell_type": "code",
   "execution_count": 172,
   "id": "7a0120ff",
   "metadata": {},
   "outputs": [
    {
     "data": {
      "image/png": "[encoded data removed]",
      "text/plain": [
       "<Figure size 432x288 with 1 Axes>"
      ]
     },
     "metadata": {
      "needs_background": "light"
     },
     "output_type": "display_data"
    }
   ],
   "source": [
    "# Creating a 100% stacked bar chart \n",
    "\n",
    "bar_parent_dept_100 = crosstab_parent_dept.apply(lambda r: r/r.sum()*100, axis=1).plot(kind = 'bar', stacked = True, color = sns.color_palette('PuOr',2))"
   ]
  },
  {
   "cell_type": "code",
   "execution_count": 173,
   "id": "2d979aa1",
   "metadata": {},
   "outputs": [],
   "source": [
    "# Exporting visuals\n",
    "\n",
    "bar_parent_dept.figure.savefig(os.path.join(path, '04 Analysis','Viz', 'bar_parent_dept.png'))"
   ]
  },
  {
   "cell_type": "code",
   "execution_count": 174,
   "id": "e753cbab",
   "metadata": {},
   "outputs": [],
   "source": [
    "bar_parent_dept_100.figure.savefig(os.path.join(path, '04 Analysis','Viz', 'bar_parent_dept_100.png'))"
   ]
  },
  {
   "cell_type": "markdown",
   "id": "3e562bfd",
   "metadata": {},
   "source": [
    "### 9.6 Loyalty Status"
   ]
  },
  {
   "cell_type": "markdown",
   "id": "10ae43fb",
   "metadata": {},
   "source": [
    "#### Loyalty & Departments"
   ]
  },
  {
   "cell_type": "code",
   "execution_count": 175,
   "id": "9e5293ec",
   "metadata": {},
   "outputs": [],
   "source": [
    "# Creating a crosstab for loyalty status and departments\n",
    "\n",
    "crosstab_loyal_dept = pd.crosstab(df_final['department'], df_final['loyalty_flag'], dropna = False)"
   ]
  },
  {
   "cell_type": "code",
   "execution_count": 176,
   "id": "1aaf8da1",
   "metadata": {},
   "outputs": [
    {
     "data": {
      "image/png": "[encoded data removed]",
      "text/plain": [
       "<Figure size 432x288 with 1 Axes>"
      ]
     },
     "metadata": {
      "needs_background": "light"
     },
     "output_type": "display_data"
    }
   ],
   "source": [
    "# Creating a stacked bar chart \n",
    "\n",
    "bar_loyal_dept = crosstab_loyal_dept.plot(kind = 'bar', stacked = True, color = sns.color_palette('jet_r',3))"
   ]
  },
  {
   "cell_type": "code",
   "execution_count": 177,
   "id": "2bd0bf52",
   "metadata": {},
   "outputs": [
    {
     "data": {
      "image/png": "[encoded data removed]",
      "text/plain": [
       "<Figure size 432x288 with 1 Axes>"
      ]
     },
     "metadata": {
      "needs_background": "light"
     },
     "output_type": "display_data"
    }
   ],
   "source": [
    "# Creating a 100 % stacked Bar Chart\n",
    "\n",
    "bar_loyal_dept_100 = crosstab_loyal_dept.apply(lambda r: r/r.sum()*100, axis=1).plot(kind = 'bar', stacked = True, color = sns.color_palette('jet_r',3))"
   ]
  },
  {
   "cell_type": "code",
   "execution_count": 178,
   "id": "8a2123fa",
   "metadata": {},
   "outputs": [],
   "source": [
    "bar_loyal_dept.figure.savefig(os.path.join(path, '04 Analysis','Viz', 'bar_loyal_dept.png'))"
   ]
  },
  {
   "cell_type": "code",
   "execution_count": 179,
   "id": "d661dab7",
   "metadata": {},
   "outputs": [],
   "source": [
    "bar_loyal_dept_100.figure.savefig(os.path.join(path, '04 Analysis','Viz', 'bar_loyal_dept_100.png'))"
   ]
  },
  {
   "cell_type": "markdown",
   "id": "c1eb1c56",
   "metadata": {},
   "source": [
    "### 9.7 Department Populatirty"
   ]
  },
  {
   "cell_type": "code",
   "execution_count": 182,
   "id": "ee6233aa",
   "metadata": {},
   "outputs": [
    {
     "data": {
      "image/png": "[encoded data removed]",
      "text/plain": [
       "<Figure size 432x288 with 1 Axes>"
      ]
     },
     "metadata": {
      "needs_background": "light"
     },
     "output_type": "display_data"
    }
   ],
   "source": [
    "# Creating a bar chart of orders by department \n",
    "\n",
    "bar_dept = df_final['department'].value_counts().plot.bar(color = 'Orange')"
   ]
  },
  {
   "cell_type": "code",
   "execution_count": 183,
   "id": "230e40cb",
   "metadata": {},
   "outputs": [],
   "source": [
    "#Exportin visual \n",
    "\n",
    "bar_dept.figure.savefig(os.path.join(path, '04 Analysis','Viz', 'bar__dept.png'))"
   ]
  },
  {
   "cell_type": "code",
   "execution_count": null,
   "id": "8f237e42",
   "metadata": {},
   "outputs": [],
   "source": []
  }
 ],
 "metadata": {
  "kernelspec": {
   "display_name": "Python 3",
   "language": "python",
   "name": "python3"
  },
  "language_info": {
   "codemirror_mode": {
    "name": "ipython",
    "version": 3
   },
   "file_extension": ".py",
   "mimetype": "text/x-python",
   "name": "python",
   "nbconvert_exporter": "python",
   "pygments_lexer": "ipython3",
   "version": "3.8.8"
  }
 },
 "nbformat": 4,
 "nbformat_minor": 5
}
