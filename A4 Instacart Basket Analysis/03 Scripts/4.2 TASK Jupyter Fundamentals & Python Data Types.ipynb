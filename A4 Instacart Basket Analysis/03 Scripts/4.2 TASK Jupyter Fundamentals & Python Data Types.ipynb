{
 "cells": [
  {
   "cell_type": "markdown",
   "id": "66592aa6",
   "metadata": {},
   "source": [
    "# 04. Importing Libraries"
   ]
  },
  {
   "cell_type": "code",
   "execution_count": 1,
   "id": "fd281282",
   "metadata": {},
   "outputs": [],
   "source": [
    "# Import Libraries\n",
    "import pandas as pd\n",
    "import numpy as np\n",
    "import os"
   ]
  },
  {
   "cell_type": "markdown",
   "id": "50bc52bb",
   "metadata": {},
   "source": [
    "# 06. Working with Python Data Types"
   ]
  },
  {
   "cell_type": "code",
   "execution_count": 2,
   "id": "16881b9b",
   "metadata": {},
   "outputs": [],
   "source": [
    "x = 20"
   ]
  },
  {
   "cell_type": "code",
   "execution_count": 3,
   "id": "df81e4f8",
   "metadata": {},
   "outputs": [],
   "source": [
    "y = 80"
   ]
  },
  {
   "cell_type": "code",
   "execution_count": 4,
   "id": "4b189e17",
   "metadata": {},
   "outputs": [
    {
     "data": {
      "text/plain": [
       "100"
      ]
     },
     "execution_count": 4,
     "metadata": {},
     "output_type": "execute_result"
    }
   ],
   "source": [
    "x + y"
   ]
  },
  {
   "cell_type": "code",
   "execution_count": 5,
   "id": "39adc9ab",
   "metadata": {},
   "outputs": [
    {
     "data": {
      "text/plain": [
       "100"
      ]
     },
     "execution_count": 5,
     "metadata": {},
     "output_type": "execute_result"
    }
   ],
   "source": [
    "x * 5"
   ]
  },
  {
   "cell_type": "code",
   "execution_count": 6,
   "id": "32aae62f",
   "metadata": {},
   "outputs": [
    {
     "data": {
      "text/plain": [
       "100"
      ]
     },
     "execution_count": 6,
     "metadata": {},
     "output_type": "execute_result"
    }
   ],
   "source": [
    "y + 20"
   ]
  },
  {
   "cell_type": "code",
   "execution_count": 7,
   "id": "2a74df08",
   "metadata": {},
   "outputs": [],
   "source": [
    "a = 1.234"
   ]
  },
  {
   "cell_type": "code",
   "execution_count": 8,
   "id": "f149358e",
   "metadata": {},
   "outputs": [],
   "source": [
    "b = 9.876"
   ]
  },
  {
   "cell_type": "code",
   "execution_count": 9,
   "id": "a255ac76",
   "metadata": {},
   "outputs": [
    {
     "data": {
      "text/plain": [
       "8.0032414910859"
      ]
     },
     "execution_count": 9,
     "metadata": {},
     "output_type": "execute_result"
    }
   ],
   "source": [
    "b / a"
   ]
  },
  {
   "cell_type": "code",
   "execution_count": 10,
   "id": "b7d0b0a9",
   "metadata": {},
   "outputs": [],
   "source": [
    "h = 'home'"
   ]
  },
  {
   "cell_type": "code",
   "execution_count": 11,
   "id": "c14a8c1e",
   "metadata": {},
   "outputs": [],
   "source": [
    "r = 'run'"
   ]
  },
  {
   "cell_type": "code",
   "execution_count": 12,
   "id": "faaa9de7",
   "metadata": {},
   "outputs": [
    {
     "data": {
      "text/plain": [
       "'homerun'"
      ]
     },
     "execution_count": 12,
     "metadata": {},
     "output_type": "execute_result"
    }
   ],
   "source": [
    "h + r"
   ]
  },
  {
   "cell_type": "code",
   "execution_count": 13,
   "id": "42913833",
   "metadata": {},
   "outputs": [],
   "source": [
    "i = 'Ivan '\n",
    "z = 'hit '\n",
    "t = 'the '"
   ]
  },
  {
   "cell_type": "code",
   "execution_count": 14,
   "id": "f5c5c93c",
   "metadata": {},
   "outputs": [
    {
     "data": {
      "text/plain": [
       "'Ivan hit the homerun'"
      ]
     },
     "execution_count": 14,
     "metadata": {},
     "output_type": "execute_result"
    }
   ],
   "source": [
    "i + z + t + (h + r)"
   ]
  },
  {
   "cell_type": "code",
   "execution_count": 15,
   "id": "4671dbc9",
   "metadata": {},
   "outputs": [],
   "source": [
    "m = 'Max '\n",
    "s = 'struckout, '"
   ]
  },
  {
   "cell_type": "code",
   "execution_count": 16,
   "id": "b8572260",
   "metadata": {},
   "outputs": [],
   "source": [
    "w = 'while '"
   ]
  },
  {
   "cell_type": "code",
   "execution_count": 17,
   "id": "0584ccc8",
   "metadata": {},
   "outputs": [
    {
     "data": {
      "text/plain": [
       "'Max struckout, while Ivan hit the homerun'"
      ]
     },
     "execution_count": 17,
     "metadata": {},
     "output_type": "execute_result"
    }
   ],
   "source": [
    "m + s + w + i + z + t + (h + r)"
   ]
  },
  {
   "cell_type": "markdown",
   "id": "b308e2b4",
   "metadata": {},
   "source": [
    "# BONUS TASK"
   ]
  },
  {
   "cell_type": "code",
   "execution_count": 18,
   "id": "490e7fa1",
   "metadata": {},
   "outputs": [
    {
     "data": {
      "text/plain": [
       "'Max Max Max Max Max Max Max Max Max Max Max Max Max Max Max Max Max Max Max Max Max Max Max Max Max Max Max Max Max Max Max Max Max Max Max Max Max Max Max Max Max Max Max Max Max Max Max Max Max Max Max Max Max Max Max Max Max Max Max Max Max Max Max Max Max Max Max Max Max Max Max Max Max Max Max Max Max Max Max Max Max Max Max Max Max Max Max Max Max Max Max Max Max Max Max Max Max Max Max Max '"
      ]
     },
     "execution_count": 18,
     "metadata": {},
     "output_type": "execute_result"
    }
   ],
   "source": [
    "m * 100"
   ]
  },
  {
   "cell_type": "code",
   "execution_count": null,
   "id": "84d4dab0",
   "metadata": {},
   "outputs": [],
   "source": []
  }
 ],
 "metadata": {
  "kernelspec": {
   "display_name": "Python 3",
   "language": "python",
   "name": "python3"
  },
  "language_info": {
   "codemirror_mode": {
    "name": "ipython",
    "version": 3
   },
   "file_extension": ".py",
   "mimetype": "text/x-python",
   "name": "python",
   "nbconvert_exporter": "python",
   "pygments_lexer": "ipython3",
   "version": "3.8.8"
  }
 },
 "nbformat": 4,
 "nbformat_minor": 5
}
